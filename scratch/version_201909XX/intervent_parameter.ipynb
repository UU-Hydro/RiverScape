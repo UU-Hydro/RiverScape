{
 "cells": [
  {
   "cell_type": "markdown",
   "metadata": {},
   "source": [
    "<br>\n",
    "<br>\n",
    "\n",
    "Put some introduction here. \n",
    "\n",
    "<br>\n",
    "<br>\n"
   ]
  },
  {
   "cell_type": "code",
   "execution_count": 20,
   "metadata": {},
   "outputs": [],
   "source": [
    "# import required modules/packages\n",
    "\n",
    "import os\n",
    "import string\n",
    "import subprocess\n",
    "import numpy as np\n",
    "from collections import OrderedDict\n",
    "import math\n",
    "import pandas as pd\n",
    "import geopandas as gpd\n",
    "from scipy.spatial import Delaunay\n",
    "from shapely.geometry import MultiLineString\n",
    "from shapely.ops import cascaded_union, polygonize\n",
    "import time\n",
    "\n",
    "import pcraster as pcr\n",
    "\n",
    "import matplotlib\n",
    "\n",
    "#%matplotlib notebook\n",
    "#TODO: Note that pcr.plot() still does not support interactive zoom-ing.    \n"
   ]
  },
  {
   "cell_type": "code",
   "execution_count": 21,
   "metadata": {},
   "outputs": [
    {
     "name": "stdout",
     "output_type": "stream",
     "text": [
      "QStandardPaths: XDG_RUNTIME_DIR not set, defaulting to '/tmp/runtime-sutan101'\n",
      "libGL error: failed to open drm device: Permission denied\n",
      "libGL error: failed to load driver: i965\n",
      "libGL error: unable to load driver: swrast_dri.so\n",
      "libGL error: failed to load driver: swrast\n",
      "environment.yml\t\t     __pycache__\ttmpj5ap77o5  tmppmhi0jli\n",
      "how_to_install_conda_etc.sh  remote_jupyter.sh\ttmpj7njcj79  tmpqtpbq1_a\n",
      "intervent_parameter.ipynb    test_4.py\t\ttmpjhgxz166  tmpr8z07lq4\n",
      "legend.tmp\t\t     test_on_fleet.py\ttmpkwmhj9eb  tmpvqq8tx51\n",
      "mapIO.py\t\t     tmp2menmed8\ttmplmlz295k  tmpwz_qo11y\n",
      "measures_py3.py\t\t     tmp93bmwwdp\ttmpoz78y1lp  Untitled.ipynb\n",
      "pcrRecipes.py\t\t     tmp9fyu_wcy\ttmppkokj0po  untitled.txt\n",
      "/opt/pcraster/pcraster-4.3/bin:/home/sutan101/opt/anaconda2/envs/rs-env/bin:/home/sutan101/opt/anaconda2/condabin:/home/sutan101/opt/anaconda2/bin:/usr/lib64/qt-3.3/bin:/usr/local/bin:/usr/bin:/usr/local/sbin:/usr/sbin\n"
     ]
    }
   ],
   "source": [
    "# check the path and test \n",
    "os.system('echo $PATH')\n",
    "# test aguila \n",
    "pcr.aguila()\n",
    "\n",
    "!aguila\n",
    "!ls\n",
    "!echo $PATH"
   ]
  },
  {
   "cell_type": "code",
   "execution_count": 12,
   "metadata": {},
   "outputs": [],
   "source": [
    "# if needed, fix the path\n",
    "os.environ[\"PATH\"] = \"/opt/pcraster/pcraster-4.3/bin:/home/sutan101/opt/anaconda2/envs/rs-env/bin:/home/sutan101/opt/anaconda2/condabin:/home/sutan101/opt/anaconda2/bin:/usr/lib64/qt-3.3/bin:/usr/local/bin:/usr/bin:/usr/local/sbin:/usr/sbin\"\n",
    "pcr.aguila()"
   ]
  },
  {
   "cell_type": "code",
   "execution_count": 22,
   "metadata": {},
   "outputs": [],
   "source": [
    "# import sub-modules\n",
    "\n",
    "import mapIO\n",
    "import pcrRecipes\n",
    "import measures_py3 as msr\n"
   ]
  },
  {
   "cell_type": "markdown",
   "metadata": {},
   "source": [
    "\n",
    "<br>\n",
    "<br>\n",
    "\n",
    "Please define output and input folders."
   ]
  },
  {
   "cell_type": "code",
   "execution_count": 23,
   "metadata": {},
   "outputs": [],
   "source": [
    "# - for test on cartesius\n",
    "# output_dir  = \"/scratch/depfg/sutan101/tmp_menno/out/\"\n",
    "# input_dir   = \"/scratch/depfg/hydrowld/river_scape/source/from_menno/riverscape/input/\"\n",
    "# scratch_dir = \"/scratch/depfg/sutan101/tmp_menno/tmp/\"\n",
    "\n",
    "# - for test on fleet\n",
    "output_dir  = \"/scratch/sutan101/tmp_menno/out/\"\n",
    "input_dir   = \"/home/sutan101/data/river_scape/source/from_menno/riverscape/input/\"\n",
    "scratch_dir = output_dir + \"/tmp/\""
   ]
  },
  {
   "cell_type": "markdown",
   "metadata": {},
   "source": [
    "\n",
    "<br>\n",
    "\n",
    "Please define your input (a separate manual is encouraged here).\n"
   ]
  },
  {
   "cell_type": "code",
   "execution_count": 24,
   "metadata": {},
   "outputs": [],
   "source": [
    "#-define input\n",
    "settings = OrderedDict([\n",
    "                    ('smoothing_percentage', 100),\n",
    "                    ('smoothing_ecotope', 'UG-2'),\n",
    "                    ('smoothing_trachytope', 1201),\n",
    "                    \n",
    "                    ('lowering_percentage', 100),\n",
    "                    ('lowering_ecotope', 'UG-2'),\n",
    "                    ('lowering_trachytope', 1201),\n",
    "                    ('lowering_height', 'water_level_50d'),\n",
    "                    \n",
    "                    ('channel_width', 75),\n",
    "                    ('channel_depth', 2.5),\n",
    "                    ('channel_slope', 1./3.),\n",
    "                    ('channel_ecotope', 'RnM'),\n",
    "                    ('channel_trachytope', 105),\n",
    "                    \n",
    "                    ('relocation_alpha', 10000),\n",
    "                    ('relocation_depth', 'AHN'),\n",
    "                    ('relocation_ecotope', 'HG-2'),\n",
    "                    ('relocation_trachytope', 1201),\n",
    "                    \n",
    "                    ('groyne_ref_level', 'wl_exc150d'),\n",
    "                    ('minemb_ref_level', 'wl_exc50d'),\n",
    "                    ('main_dike_dh', 0.50),\n",
    "                    ])"
   ]
  },
  {
   "cell_type": "markdown",
   "metadata": {},
   "source": [
    "\n",
    "<br>\n",
    "\n",
    "Start processing/calculation ....\n",
    "========================\n",
    "\n",
    "<br>\n"
   ]
  },
  {
   "cell_type": "code",
   "execution_count": 25,
   "metadata": {},
   "outputs": [],
   "source": [
    "# starting time of this script\n",
    "start_time = time.time()"
   ]
  },
  {
   "cell_type": "code",
   "execution_count": 26,
   "metadata": {},
   "outputs": [],
   "source": [
    "# set global option for pcraster such that length of cells is computed in true length of cells\n",
    "pcr.setglobaloption('unittrue')\n",
    "# TODO: Check with Menno why we need this?"
   ]
  },
  {
   "cell_type": "code",
   "execution_count": 27,
   "metadata": {},
   "outputs": [],
   "source": [
    "# set the pcraster clone map\n",
    "current_dir = os.path.join(input_dir, 'reference_maps')\n",
    "pcr.setclone(os.path.join(current_dir, 'clone.map'))"
   ]
  },
  {
   "cell_type": "code",
   "execution_count": 28,
   "metadata": {},
   "outputs": [
    {
     "data": {
      "image/png": "[encoded data removed]",
      "text/plain": [
       "<Figure size 432x288 with 1 Axes>"
      ]
     },
     "metadata": {
      "needs_background": "light"
     },
     "output_type": "display_data"
    },
    {
     "name": "stdout",
     "output_type": "stream",
     "text": [
      "/opt/pcraster/pcraster-4.3/bin:/home/sutan101/opt/anaconda2/envs/rs-env/bin:/home/sutan101/opt/anaconda2/condabin:/home/sutan101/opt/anaconda2/bin:/usr/lib64/qt-3.3/bin:/usr/local/bin:/usr/bin:/usr/local/sbin:/usr/sbin\n",
      "QStandardPaths: XDG_RUNTIME_DIR not set, defaulting to '/tmp/runtime-sutan101'\n",
      "libGL error: failed to open drm device: Permission denied\n",
      "libGL error: failed to load driver: i965\n",
      "libGL error: unable to load driver: swrast_dri.so\n",
      "libGL error: failed to load driver: swrast\n"
     ]
    }
   ],
   "source": [
    "# check and plot the clone map\n",
    "test = pcr.readmap(os.path.join(current_dir, 'clone.map'))\n",
    "\n",
    "pcr.aguila(test)\n",
    "pcr.plot(test) \n",
    "\n",
    "!echo $PATH\n",
    "!aguila"
   ]
  },
  {
   "cell_type": "code",
   "execution_count": 29,
   "metadata": {},
   "outputs": [],
   "source": [
    "# import data\n",
    "main_dike = msr.read_dike_maps(current_dir, 'main_dike')\n",
    "minemb = msr.read_dike_maps(current_dir, 'minemb')\n",
    "groynes = msr.read_dike_maps(current_dir, 'groyne')\n",
    "hydro = msr.read_hydro_maps(current_dir)\n",
    "mesh = msr.read_mesh_maps(current_dir)\n",
    "axis = msr.read_axis_maps(current_dir)\n",
    "lulc = msr.read_lulc_maps(current_dir)\n",
    "geom = msr.read_geom_maps(current_dir)"
   ]
  },
  {
   "cell_type": "code",
   "execution_count": 30,
   "metadata": {},
   "outputs": [],
   "source": [
    "# make scratch directory and go to this folder\n",
    "pcrRecipes.make_dir(scratch_dir)\n",
    "os.chdir(scratch_dir)"
   ]
  },
  {
   "cell_type": "code",
   "execution_count": 31,
   "metadata": {},
   "outputs": [
    {
     "data": {
      "image/png": "[encoded data removed]",
      "text/plain": [
       "<Figure size 432x288 with 2 Axes>"
      ]
     },
     "metadata": {
      "needs_background": "light"
     },
     "output_type": "display_data"
    }
   ],
   "source": [
    "# plot the digital elevation model\n",
    "pcr.aguila(geom.dem)\n",
    "pcr.plot(geom.dem)"
   ]
  },
  {
   "cell_type": "code",
   "execution_count": 32,
   "metadata": {},
   "outputs": [],
   "source": [
    "# initiate the model\n",
    "waal = msr.River('Waal', axis, main_dike, minemb, groynes, hydro, \n",
    "             mesh, lulc, geom)\n",
    "waal_msr = msr.RiverMeasures(waal)\n",
    "waal_msr.settings = settings"
   ]
  },
  {
   "cell_type": "code",
   "execution_count": 33,
   "metadata": {},
   "outputs": [],
   "source": [
    "# test measures\n",
    "mask = pcr.boolean(1)\n",
    "ID = 'everywhere'"
   ]
  },
  {
   "cell_type": "code",
   "execution_count": 34,
   "metadata": {},
   "outputs": [],
   "source": [
    "lowering_msr = waal_msr.lowering_measure(settings, mask=mask, ID=ID)"
   ]
  },
  {
   "cell_type": "code",
   "execution_count": 35,
   "metadata": {},
   "outputs": [],
   "source": [
    "lowering_msr.plot()"
   ]
  },
  {
   "cell_type": "code",
   "execution_count": 36,
   "metadata": {},
   "outputs": [
    {
     "data": {
      "text/plain": [
       "0"
      ]
     },
     "execution_count": 36,
     "metadata": {},
     "output_type": "execute_result"
    }
   ],
   "source": [
    "os.system(\"killall aguila\")"
   ]
  },
  {
   "cell_type": "code",
   "execution_count": 37,
   "metadata": {},
   "outputs": [],
   "source": [
    "groyne_low_msr = waal_msr.groyne_lowering_msr(settings, mask=mask, ID=ID)"
   ]
  },
  {
   "cell_type": "code",
   "execution_count": 38,
   "metadata": {},
   "outputs": [],
   "source": [
    "minemb_low_msr = waal_msr.minemb_lowering_msr(settings, mask=mask, ID=ID)"
   ]
  },
  {
   "cell_type": "code",
   "execution_count": 39,
   "metadata": {},
   "outputs": [],
   "source": [
    "main_dike_raise_msr = waal_msr.main_dike_raising_msr(settings, mask=mask, ID=ID)"
   ]
  },
  {
   "cell_type": "code",
   "execution_count": 40,
   "metadata": {},
   "outputs": [],
   "source": [
    "large_sections = pcr.ifthen(pcr.areaarea(waal.geom.flpl_wide) > 1e6, waal.geom.flpl_wide)\n",
    "flpl_section = pcr.ifthen(large_sections == 1, pcr.nominal(1))"
   ]
  },
  {
   "cell_type": "code",
   "execution_count": 41,
   "metadata": {},
   "outputs": [
    {
     "data": {
      "image/png": "[encoded data removed]",
      "text/plain": [
       "<Figure size 432x288 with 1 Axes>"
      ]
     },
     "metadata": {
      "needs_background": "light"
     },
     "output_type": "display_data"
    }
   ],
   "source": [
    "pcr.aguila(flpl_section)\n",
    "pcr.plot(flpl_section)"
   ]
  },
  {
   "cell_type": "code",
   "execution_count": 42,
   "metadata": {},
   "outputs": [
    {
     "name": "stdout",
     "output_type": "stream",
     "text": [
      "1\n",
      "2\n",
      "3\n",
      "5\n",
      "6\n",
      "8\n",
      "10\n",
      "12\n",
      "13\n",
      "14\n",
      "17\n",
      "18\n",
      "20\n",
      "21\n",
      "22\n",
      "23\n",
      "27\n",
      "29\n",
      "30\n",
      "35\n",
      "39\n",
      "40\n",
      "43\n",
      "44\n",
      "49\n",
      "54\n",
      "56\n"
     ]
    }
   ],
   "source": [
    "test = list(np.unique(pcr.pcr2numpy(large_sections, -9999))[1:])\n",
    "test[:]\n",
    "for ID in test[:]:\n",
    "    print(ID)"
   ]
  },
  {
   "cell_type": "code",
   "execution_count": 43,
   "metadata": {},
   "outputs": [
    {
     "name": "stdout",
     "output_type": "stream",
     "text": [
      "[1, 2, 3, 8, 10, 13, 14, 18, 20, 22, 23, 27, 30, 39, 40, 43, 49, 54, 56]\n",
      "1\n",
      "2\n",
      "3\n",
      "8\n",
      "10\n",
      "13\n",
      "14\n",
      "18\n",
      "20\n",
      "22\n",
      "23\n",
      "27\n",
      "30\n",
      "39\n",
      "40\n",
      "43\n",
      "49\n",
      "54\n",
      "56\n"
     ]
    }
   ],
   "source": [
    "chan_msr = waal_msr.side_channel_measure(settings, mask=mask, ID=ID)"
   ]
  },
  {
   "cell_type": "code",
   "execution_count": 44,
   "metadata": {},
   "outputs": [
    {
     "data": {
      "text/plain": [
       "256"
      ]
     },
     "execution_count": 44,
     "metadata": {},
     "output_type": "execute_result"
    }
   ],
   "source": [
    "os.system(\"killall aguila\")"
   ]
  },
  {
   "cell_type": "code",
   "execution_count": 45,
   "metadata": {},
   "outputs": [],
   "source": [
    "smooth_msr = waal_msr.smoothing_measure(settings, mask=mask, ID=ID)"
   ]
  },
  {
   "cell_type": "code",
   "execution_count": 46,
   "metadata": {},
   "outputs": [],
   "source": [
    "msr_list = [groyne_low_msr, minemb_low_msr,\n",
    "            main_dike_raise_msr, lowering_msr, chan_msr, smooth_msr]"
   ]
  },
  {
   "cell_type": "code",
   "execution_count": 47,
   "metadata": {},
   "outputs": [],
   "source": [
    "msr_root_dir = os.path.join(output_dir, 'measures_ensemble03/maps')"
   ]
  },
  {
   "cell_type": "code",
   "execution_count": 48,
   "metadata": {},
   "outputs": [],
   "source": [
    "pcrRecipes.make_dir(msr_root_dir)"
   ]
  },
  {
   "cell_type": "code",
   "execution_count": 49,
   "metadata": {},
   "outputs": [],
   "source": [
    "from measures_py3 import *"
   ]
  },
  {
   "cell_type": "code",
   "execution_count": 50,
   "metadata": {},
   "outputs": [
    {
     "name": "stdout",
     "output_type": "stream",
     "text": [
      "/scratch/sutan101/tmp_menno/out/measures_ensemble03/maps/groynelowering_everywhere\n",
      "/scratch/sutan101/tmp_menno/out/measures_ensemble03/maps/minemblowering_everywhere\n",
      "/scratch/sutan101/tmp_menno/out/measures_ensemble03/maps/dikeraising_everywhere\n",
      "/scratch/sutan101/tmp_menno/out/measures_ensemble03/maps/lowering_everywhere\n",
      "/scratch/sutan101/tmp_menno/out/measures_ensemble03/maps/sidechannel_56\n",
      "/scratch/sutan101/tmp_menno/out/measures_ensemble03/maps/smoothing_56\n"
     ]
    }
   ],
   "source": [
    "for measure in msr_list:\n",
    "    write_measure(measure, msr_root_dir)"
   ]
  },
  {
   "cell_type": "code",
   "execution_count": null,
   "metadata": {},
   "outputs": [],
   "source": []
  }
 ],
 "metadata": {
  "kernelspec": {
   "display_name": "Python 3",
   "language": "python",
   "name": "python3"
  },
  "language_info": {
   "codemirror_mode": {
    "name": "ipython",
    "version": 3
   },
   "file_extension": ".py",
   "mimetype": "text/x-python",
   "name": "python",
   "nbconvert_exporter": "python",
   "pygments_lexer": "ipython3",
   "version": "3.6.9"
  }
 },
 "nbformat": 4,
 "nbformat_minor": 2
}
