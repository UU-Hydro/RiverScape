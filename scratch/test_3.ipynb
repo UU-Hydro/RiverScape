{
 "cells": [
  {
   "cell_type": "code",
   "execution_count": 140,
   "metadata": {},
   "outputs": [],
   "source": [
    "import os\n",
    "import string\n",
    "import subprocess\n",
    "import numpy as np\n",
    "from collections import OrderedDict\n",
    "import math\n",
    "import pandas as pd\n",
    "import geopandas as gpd\n",
    "from scipy.spatial import Delaunay\n",
    "from shapely.geometry import MultiLineString\n",
    "from shapely.ops import cascaded_union, polygonize\n",
    "import time\n"
   ]
  },
  {
   "cell_type": "code",
   "execution_count": 141,
   "metadata": {},
   "outputs": [],
   "source": [
    "import pcraster as pcr\n"
   ]
  },
  {
   "cell_type": "code",
   "execution_count": 142,
   "metadata": {},
   "outputs": [],
   "source": [
    "import mapIO\n"
   ]
  },
  {
   "cell_type": "code",
   "execution_count": 143,
   "metadata": {},
   "outputs": [],
   "source": [
    "import pcrRecipes\n"
   ]
  },
  {
   "cell_type": "code",
   "execution_count": 144,
   "metadata": {},
   "outputs": [],
   "source": [
    "import measures_py3 as msr\n"
   ]
  },
  {
   "cell_type": "code",
   "execution_count": 145,
   "metadata": {},
   "outputs": [],
   "source": [
    "start_time = time.time()\n"
   ]
  },
  {
   "cell_type": "code",
   "execution_count": 146,
   "metadata": {},
   "outputs": [],
   "source": [
    "output_dir = \"/scratch/depfg/sutan101/tmp_menno/out/\"\n",
    "input_dir = \"/scratch/depfg/hydrowld/river_scape/source/from_menno/riverscape/input/\"\n",
    "scratch_dir  = \"/scratch/depfg/sutan101/tmp_menno/tmp/\""
   ]
  },
  {
   "cell_type": "code",
   "execution_count": 147,
   "metadata": {},
   "outputs": [],
   "source": [
    "pcr.setglobaloption('unittrue')\n"
   ]
  },
  {
   "cell_type": "code",
   "execution_count": 148,
   "metadata": {},
   "outputs": [],
   "source": [
    "pcrRecipes.make_dir(scratch_dir)\n",
    "os.chdir(scratch_dir)\n"
   ]
  },
  {
   "cell_type": "code",
   "execution_count": 149,
   "metadata": {},
   "outputs": [],
   "source": [
    "#-define input\n",
    "settings = OrderedDict([\n",
    "                    ('smoothing_percentage', 100),\n",
    "                    ('smoothing_ecotope', 'UG-2'),\n",
    "                    ('smoothing_trachytope', 1201),\n",
    "                    \n",
    "                    ('lowering_percentage', 100),\n",
    "                    ('lowering_ecotope', 'UG-2'),\n",
    "                    ('lowering_trachytope', 1201),\n",
    "                    ('lowering_height', 'water_level_50d'),\n",
    "                    \n",
    "                    ('channel_width', 75),\n",
    "                    ('channel_depth', 2.5),\n",
    "                    ('channel_slope', 1./3.),\n",
    "                    ('channel_ecotope', 'RnM'),\n",
    "                    ('channel_trachytope', 105),\n",
    "                    \n",
    "                    ('relocation_alpha', 10000),\n",
    "                    ('relocation_depth', 'AHN'),\n",
    "                    ('relocation_ecotope', 'HG-2'),\n",
    "                    ('relocation_trachytope', 1201),\n",
    "                    \n",
    "                    ('groyne_ref_level', 'wl_exc150d'),\n",
    "                    ('minemb_ref_level', 'wl_exc50d'),\n",
    "                    ('main_dike_dh', 0.50),\n",
    "                    ])"
   ]
  },
  {
   "cell_type": "code",
   "execution_count": 150,
   "metadata": {},
   "outputs": [
    {
     "name": "stdout",
     "output_type": "stream",
     "text": [
      "/scratch/depfg/hydrowld/river_scape/source/from_menno/riverscape/input/reference_maps\n"
     ]
    }
   ],
   "source": [
    "print(current_dir)"
   ]
  },
  {
   "cell_type": "code",
   "execution_count": 151,
   "metadata": {},
   "outputs": [
    {
     "name": "stdout",
     "output_type": "stream",
     "text": [
      "/scratch/depfg/hydrowld/river_scape/source/from_menno/riverscape/input/reference_maps\n"
     ]
    }
   ],
   "source": [
    "current_dir = os.path.join(input_dir, 'reference_maps')\n",
    "pcr.setclone(os.path.join(current_dir, 'clone.map'))\n",
    "print(current_dir)"
   ]
  },
  {
   "cell_type": "code",
   "execution_count": 152,
   "metadata": {},
   "outputs": [
    {
     "name": "stdout",
     "output_type": "stream",
     "text": [
      "/scratch/depfg/hydrowld/river_scape/source/from_menno/riverscape/input/\n",
      "/scratch/depfg/hydrowld/river_scape/source/from_menno/riverscape/input/reference_maps\n",
      "/scratch/depfg/hydrowld/river_scape/source/from_menno/riverscape/input/reference_maps\n"
     ]
    }
   ],
   "source": [
    "print(input_dir)\n",
    "print(os.path.join(input_dir, 'reference_maps'))\n",
    "print(current_dir)"
   ]
  },
  {
   "cell_type": "code",
   "execution_count": 153,
   "metadata": {},
   "outputs": [],
   "source": [
    "#- Import data\n",
    "main_dike = msr.read_dike_maps(current_dir, 'main_dike')\n",
    "minemb = msr.read_dike_maps(current_dir, 'minemb')\n",
    "groynes = msr.read_dike_maps(current_dir, 'groyne')\n",
    "hydro = msr.read_hydro_maps(current_dir)\n",
    "mesh = msr.read_mesh_maps(current_dir)\n",
    "axis = msr.read_axis_maps(current_dir)\n",
    "lulc = msr.read_lulc_maps(current_dir)\n",
    "geom = msr.read_geom_maps(current_dir)"
   ]
  },
  {
   "cell_type": "code",
   "execution_count": null,
   "metadata": {},
   "outputs": [],
   "source": []
  },
  {
   "cell_type": "code",
   "execution_count": null,
   "metadata": {},
   "outputs": [],
   "source": []
  },
  {
   "cell_type": "code",
   "execution_count": 154,
   "metadata": {},
   "outputs": [],
   "source": [
    "pcr.aguila(os.path.join(current_dir, 'clone.map'))"
   ]
  },
  {
   "cell_type": "code",
   "execution_count": 155,
   "metadata": {},
   "outputs": [],
   "source": [
    "pcr.aguila(geom.dem)"
   ]
  },
  {
   "cell_type": "code",
   "execution_count": 156,
   "metadata": {},
   "outputs": [],
   "source": [
    "#- initiate the model\n",
    "waal = msr.River('Waal', axis, main_dike, minemb, groynes, hydro, \n",
    "             mesh, lulc, geom)\n",
    "waal_msr = msr.RiverMeasures(waal)\n",
    "waal_msr.settings = settings_smooth\n"
   ]
  },
  {
   "cell_type": "code",
   "execution_count": 157,
   "metadata": {},
   "outputs": [],
   "source": [
    "# Test measures\n",
    "mask = pcr.boolean(1)\n",
    "ID = 'everywhere'"
   ]
  },
  {
   "cell_type": "code",
   "execution_count": 158,
   "metadata": {},
   "outputs": [],
   "source": [
    "lowering_msr = waal_msr.lowering_measure(settings, mask=mask, ID=ID)\n"
   ]
  },
  {
   "cell_type": "code",
   "execution_count": 159,
   "metadata": {},
   "outputs": [],
   "source": [
    "lowering_msr.plot()"
   ]
  },
  {
   "cell_type": "code",
   "execution_count": 160,
   "metadata": {},
   "outputs": [
    {
     "data": {
      "text/plain": [
       "0"
      ]
     },
     "execution_count": 160,
     "metadata": {},
     "output_type": "execute_result"
    }
   ],
   "source": [
    "\n",
    "os.system(\"killall aguila\")"
   ]
  },
  {
   "cell_type": "code",
   "execution_count": 161,
   "metadata": {},
   "outputs": [],
   "source": [
    "groyne_low_msr = waal_msr.groyne_lowering_msr(settings, mask=mask, ID=ID)\n",
    "\n",
    "\n"
   ]
  },
  {
   "cell_type": "code",
   "execution_count": 162,
   "metadata": {},
   "outputs": [],
   "source": [
    "minemb_low_msr = waal_msr.minemb_lowering_msr(settings, mask=mask, ID=ID)\n"
   ]
  },
  {
   "cell_type": "code",
   "execution_count": 163,
   "metadata": {},
   "outputs": [],
   "source": [
    "main_dike_raise_msr = waal_msr.main_dike_raising_msr(settings, mask=mask, ID=ID)\n"
   ]
  },
  {
   "cell_type": "code",
   "execution_count": 164,
   "metadata": {},
   "outputs": [],
   "source": [
    "large_sections = pcr.ifthen(pcr.areaarea(waal.geom.flpl_wide) > 1e6, waal.geom.flpl_wide)\n",
    "\n",
    "flpl_section = pcr.ifthen(large_sections == 1, pcr.nominal(1))\n",
    "pcr.aguila(flpl_section) \n"
   ]
  },
  {
   "cell_type": "code",
   "execution_count": 165,
   "metadata": {},
   "outputs": [
    {
     "name": "stdout",
     "output_type": "stream",
     "text": [
      "1\n",
      "2\n",
      "3\n",
      "5\n",
      "6\n",
      "8\n",
      "10\n",
      "12\n",
      "13\n",
      "14\n",
      "17\n",
      "18\n",
      "20\n",
      "21\n",
      "22\n",
      "23\n",
      "27\n",
      "29\n",
      "30\n",
      "35\n",
      "39\n",
      "40\n",
      "43\n",
      "44\n",
      "49\n",
      "54\n",
      "56\n"
     ]
    }
   ],
   "source": [
    "test = list(np.unique(pcr.pcr2numpy(large_sections, -9999))[1:])\n",
    "test[:]\n",
    "for ID in test[:]:\n",
    "    print(ID)"
   ]
  },
  {
   "cell_type": "code",
   "execution_count": 166,
   "metadata": {},
   "outputs": [
    {
     "ename": "ArgumentError",
     "evalue": "Python argument types in\n    RunTimeEngine.pushField(RunTimeEngine, numpy.int32)\ndid not match C++ signature:\n    pushField(calc::RunTimeEngine {lvalue}, calc::Field const*)",
     "output_type": "error",
     "traceback": [
      "\u001b[0;31m---------------------------------------------------------------------------\u001b[0m",
      "\u001b[0;31mArgumentError\u001b[0m                             Traceback (most recent call last)",
      "\u001b[0;32m<ipython-input-166-8c097f652a2c>\u001b[0m in \u001b[0;36m<module>\u001b[0;34m\u001b[0m\n\u001b[0;32m----> 1\u001b[0;31m \u001b[0mchan_msr\u001b[0m \u001b[0;34m=\u001b[0m \u001b[0mwaal_msr\u001b[0m\u001b[0;34m.\u001b[0m\u001b[0mside_channel_measure\u001b[0m\u001b[0;34m(\u001b[0m\u001b[0msettings\u001b[0m\u001b[0;34m,\u001b[0m \u001b[0mmask\u001b[0m\u001b[0;34m=\u001b[0m\u001b[0mmask\u001b[0m\u001b[0;34m,\u001b[0m \u001b[0mID\u001b[0m\u001b[0;34m=\u001b[0m\u001b[0mID\u001b[0m\u001b[0;34m)\u001b[0m\u001b[0;34m\u001b[0m\u001b[0;34m\u001b[0m\u001b[0m\n\u001b[0m",
      "\u001b[0;32m~/github/edwinkost/RiverScape/scratch/measures_py3.py\u001b[0m in \u001b[0;36mside_channel_measure\u001b[0;34m(self, settings, mask, ID)\u001b[0m\n\u001b[1;32m   1094\u001b[0m         \u001b[0mCreate\u001b[0m \u001b[0ma\u001b[0m \u001b[0mmeasure\u001b[0m \u001b[0;32mclass\u001b[0m \u001b[0;32mwith\u001b[0m \u001b[0mall\u001b[0m \u001b[0mrequired\u001b[0m \u001b[0mattributes\u001b[0m\u001b[0;34m.\u001b[0m\u001b[0;34m\u001b[0m\u001b[0;34m\u001b[0m\u001b[0m\n\u001b[1;32m   1095\u001b[0m         \"\"\"\n\u001b[0;32m-> 1096\u001b[0;31m         \u001b[0mself\u001b[0m\u001b[0;34m.\u001b[0m\u001b[0msettings\u001b[0m \u001b[0;34m=\u001b[0m \u001b[0msettings\u001b[0m\u001b[0;34m\u001b[0m\u001b[0;34m\u001b[0m\u001b[0m\n\u001b[0m\u001b[1;32m   1097\u001b[0m         \u001b[0mself\u001b[0m\u001b[0;34m.\u001b[0m\u001b[0msettings\u001b[0m\u001b[0;34m[\u001b[0m\u001b[0;34m'msr_type'\u001b[0m\u001b[0;34m]\u001b[0m \u001b[0;34m=\u001b[0m \u001b[0;34m'sidechannel'\u001b[0m\u001b[0;34m\u001b[0m\u001b[0;34m\u001b[0m\u001b[0m\n\u001b[1;32m   1098\u001b[0m         \u001b[0mself\u001b[0m\u001b[0;34m.\u001b[0m\u001b[0msettings\u001b[0m\u001b[0;34m[\u001b[0m\u001b[0;34m'ID'\u001b[0m\u001b[0;34m]\u001b[0m \u001b[0;34m=\u001b[0m \u001b[0mID\u001b[0m\u001b[0;34m\u001b[0m\u001b[0;34m\u001b[0m\u001b[0m\n",
      "\u001b[0;32m~/github/edwinkost/RiverScape/scratch/measures_py3.py\u001b[0m in \u001b[0;36mchannel_center_lines\u001b[0;34m(self, friction, mask)\u001b[0m\n\u001b[1;32m   1028\u001b[0m         \u001b[0mprint\u001b[0m\u001b[0;34m(\u001b[0m\u001b[0mflpl_IDs\u001b[0m\u001b[0;34m)\u001b[0m\u001b[0;34m\u001b[0m\u001b[0;34m\u001b[0m\u001b[0m\n\u001b[1;32m   1029\u001b[0m \u001b[0;34m\u001b[0m\u001b[0m\n\u001b[0;32m-> 1030\u001b[0;31m         \u001b[0;32mfor\u001b[0m \u001b[0mID\u001b[0m \u001b[0;32min\u001b[0m \u001b[0mflpl_IDs\u001b[0m\u001b[0;34m[\u001b[0m\u001b[0;34m:\u001b[0m\u001b[0;34m]\u001b[0m\u001b[0;34m:\u001b[0m\u001b[0;34m\u001b[0m\u001b[0;34m\u001b[0m\u001b[0m\n\u001b[0m\u001b[1;32m   1031\u001b[0m             \u001b[0mprint\u001b[0m\u001b[0;34m(\u001b[0m\u001b[0mID\u001b[0m\u001b[0;34m)\u001b[0m\u001b[0;34m\u001b[0m\u001b[0;34m\u001b[0m\u001b[0m\n\u001b[1;32m   1032\u001b[0m             \u001b[0;31m#~ flpl_section = pcr.ifthen(pcr.scalar(self.r.geom.flpl_wide) == float(ID)),\u001b[0m\u001b[0;34m\u001b[0m\u001b[0;34m\u001b[0m\u001b[0;34m\u001b[0m\u001b[0m\n",
      "\u001b[0;32m/quanta1/home/hydrowld/opt/pcraster/pcraster-4.2.1/python/pcraster/operations.py\u001b[0m in \u001b[0;36mnominal\u001b[0;34m(arg1)\u001b[0m\n\u001b[1;32m   1408\u001b[0m     \u001b[0moperator\u001b[0m \u001b[0;34m=\u001b[0m \u001b[0m_pcraster\u001b[0m\u001b[0;34m.\u001b[0m\u001b[0m_major2op\u001b[0m\u001b[0;34m(\u001b[0m\u001b[0m_pcraster\u001b[0m\u001b[0;34m.\u001b[0m\u001b[0mMAJOR_CODE\u001b[0m\u001b[0;34m.\u001b[0m\u001b[0mOP_NOMINAL\u001b[0m\u001b[0;34m)\u001b[0m\u001b[0;34m\u001b[0m\u001b[0;34m\u001b[0m\u001b[0m\n\u001b[1;32m   1409\u001b[0m     \u001b[0mresults\u001b[0m \u001b[0;34m=\u001b[0m \u001b[0;34m[\u001b[0m\u001b[0;34m]\u001b[0m\u001b[0;34m\u001b[0m\u001b[0;34m\u001b[0m\u001b[0m\n\u001b[0;32m-> 1410\u001b[0;31m     \u001b[0m_pcraster\u001b[0m\u001b[0;34m.\u001b[0m\u001b[0m_rte\u001b[0m\u001b[0;34m(\u001b[0m\u001b[0;34m)\u001b[0m\u001b[0;34m.\u001b[0m\u001b[0mpushField\u001b[0m\u001b[0;34m(\u001b[0m\u001b[0marg1\u001b[0m\u001b[0;34m)\u001b[0m\u001b[0;34m\u001b[0m\u001b[0;34m\u001b[0m\u001b[0m\n\u001b[0m\u001b[1;32m   1411\u001b[0m     \u001b[0m_pcraster\u001b[0m\u001b[0;34m.\u001b[0m\u001b[0m_rte\u001b[0m\u001b[0;34m(\u001b[0m\u001b[0;34m)\u001b[0m\u001b[0;34m.\u001b[0m\u001b[0mcheckAndExec\u001b[0m\u001b[0;34m(\u001b[0m\u001b[0moperator\u001b[0m\u001b[0;34m,\u001b[0m \u001b[0;36m1\u001b[0m\u001b[0;34m)\u001b[0m\u001b[0;34m\u001b[0m\u001b[0;34m\u001b[0m\u001b[0m\n\u001b[1;32m   1412\u001b[0m     \u001b[0mresults\u001b[0m\u001b[0;34m.\u001b[0m\u001b[0mappend\u001b[0m\u001b[0;34m(\u001b[0m\u001b[0m_pcraster\u001b[0m\u001b[0;34m.\u001b[0m\u001b[0m_rte\u001b[0m\u001b[0;34m(\u001b[0m\u001b[0;34m)\u001b[0m\u001b[0;34m.\u001b[0m\u001b[0mreleasePopField\u001b[0m\u001b[0;34m(\u001b[0m\u001b[0;34m)\u001b[0m\u001b[0;34m)\u001b[0m\u001b[0;34m\u001b[0m\u001b[0;34m\u001b[0m\u001b[0m\n",
      "\u001b[0;31mArgumentError\u001b[0m: Python argument types in\n    RunTimeEngine.pushField(RunTimeEngine, numpy.int32)\ndid not match C++ signature:\n    pushField(calc::RunTimeEngine {lvalue}, calc::Field const*)"
     ]
    }
   ],
   "source": [
    "chan_msr = waal_msr.side_channel_measure(settings, mask=mask, ID=ID)\n"
   ]
  },
  {
   "cell_type": "code",
   "execution_count": null,
   "metadata": {},
   "outputs": [],
   "source": [
    "print(ID\n",
    "     )"
   ]
  },
  {
   "cell_type": "code",
   "execution_count": null,
   "metadata": {},
   "outputs": [],
   "source": [
    "print(flpl_IDs[:])"
   ]
  },
  {
   "cell_type": "code",
   "execution_count": null,
   "metadata": {},
   "outputs": [],
   "source": []
  }
 ],
 "metadata": {
  "kernelspec": {
   "display_name": "Python 3",
   "language": "python",
   "name": "python3"
  },
  "language_info": {
   "codemirror_mode": {
    "name": "ipython",
    "version": 3
   },
   "file_extension": ".py",
   "mimetype": "text/x-python",
   "name": "python",
   "nbconvert_exporter": "python",
   "pygments_lexer": "ipython3",
   "version": "3.6.8"
  }
 },
 "nbformat": 4,
 "nbformat_minor": 2
}
