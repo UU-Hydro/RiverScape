{
 "cells": [
  {
   "cell_type": "markdown",
   "metadata": {},
   "source": [
    "Introduction\n",
    "============\n",
    "\n",
    "This notebook facilitates using the RiverScape Python package (Straatsma et al., 2017, https://advances.sciencemag.org/content/3/11/e1602762) to evaluate the effects of RiverScape measures on biodivesity. \n",
    "\n",
    "Requirement (Python modules/packages)\n",
    "-------------------------------------\n",
    "\n",
    "To run this notebook, please import the following Python modules."
   ]
  },
  {
   "cell_type": "code",
   "execution_count": null,
   "metadata": {},
   "outputs": [],
   "source": [
    "# import standard modules\n",
    "import os\n",
    "import shutil\n",
    "import sys\n",
    "import string\n",
    "import subprocess\n",
    "import time\n",
    "import math\n",
    "import pprint as pp\n",
    "\n",
    "# import required modules/packages (which may require installation)\n",
    "import numpy as np\n",
    "import pandas as pd\n",
    "import geopandas as gpd\n",
    "import seaborn as sns\n",
    "\n",
    "import matplotlib.pyplot as plt\n",
    "\n",
    "import pcraster as pcr"
   ]
  },
  {
   "cell_type": "markdown",
   "metadata": {},
   "source": [
    "Please also make sure that this notebook file is in the same folder as the RiverScape Python module files that must be loaded. You can then import the RiverScape Python module:"
   ]
  },
  {
   "cell_type": "code",
   "execution_count": null,
   "metadata": {},
   "outputs": [],
   "source": [
    "from riverscape import *\n",
    "import geoviews\n",
    "geoviews.extension('bokeh')"
   ]
  },
  {
   "cell_type": "code",
   "execution_count": null,
   "metadata": {},
   "outputs": [],
   "source": []
  },
  {
   "cell_type": "code",
   "execution_count": null,
   "metadata": {},
   "outputs": [],
   "source": [
    "# Directory settings\n",
    "root_dir = os.path.dirname(os.getcwd())\n",
    "# - for testing on eejit\n",
    "root_dir = \"/scratch/depfg/sutan101/test_biosafe_3/\"\n",
    "\n",
    "input_dir  = os.path.join(root_dir, 'inputData')\n",
    "# - for testing on eejit, use input files from the following folder  \n",
    "input_dir_source = \"/scratch/depfg/hydrowld/river_scape/source/from_menno/riverscape/input/bio/\"\n",
    "if os.path.exists(input_dir): shutil.rmtree(input_dir)\n",
    "shutil.copytree(input_dir_source, input_dir)\n",
    "\n",
    "scratch_dir = os.path.join(root_dir, 'scratch')\n",
    "if os.path.exists(scratch_dir): shutil.rmtree(scratch_dir)\n",
    "os.makedirs(scratch_dir)\n",
    "os.chdir(scratch_dir)\n",
    "\n"
   ]
  },
  {
   "cell_type": "code",
   "execution_count": null,
   "metadata": {},
   "outputs": [],
   "source": [
    "excelFile = os.path.join(input_dir, 'BIOSAFE_20150629.xlsx')\n"
   ]
  },
  {
   "cell_type": "code",
   "execution_count": null,
   "metadata": {},
   "outputs": [],
   "source": [
    "legalWeights, linksLaw, linksEco = bsIO.from_csv(input_dir)\n",
    "\n"
   ]
  },
  {
   "cell_type": "code",
   "execution_count": null,
   "metadata": {},
   "outputs": [],
   "source": [
    "speciesPresence = pd.DataFrame(np.random.randint(2, size=len(linksLaw)),\\\n",
    "                    columns=['speciesPresence'], \\\n",
    "                    index=linksLaw.index)"
   ]
  },
  {
   "cell_type": "code",
   "execution_count": null,
   "metadata": {},
   "outputs": [],
   "source": [
    "ecotopeArea = pd.DataFrame(np.ones(82) * 1e5,\\\n",
    "                           columns = ['area_m2'],\\\n",
    "                           index = linksEco.columns.values[0:-1])"
   ]
  },
  {
   "cell_type": "code",
   "execution_count": null,
   "metadata": {},
   "outputs": [],
   "source": [
    "ndff_species = pd.read_pickle(os.path.join(input_dir, 'ndff_sub_BS_13.pkl'))\n",
    "flpl_sections_f = os.path.join(input_dir, 'flpl_sections.map')\n",
    "pcr.setclone(flpl_sections_f)\n",
    "flpl_sections = pcr.readmap(flpl_sections_f)\n",
    "ecotopes = biosafe.read_map_with_legend(os.path.join(input_dir, 'ecotopes.map'))\n"
   ]
  },
  {
   "cell_type": "code",
   "execution_count": null,
   "metadata": {},
   "outputs": [],
   "source": [
    "plot(flpl_sections)"
   ]
  },
  {
   "cell_type": "code",
   "execution_count": null,
   "metadata": {},
   "outputs": [],
   "source": [
    "#%% test a single instance of biosafe\n",
    "legalWeights, linksLaw, linksEco = bsIO.from_csv(input_dir)"
   ]
  },
  {
   "cell_type": "code",
   "execution_count": null,
   "metadata": {},
   "outputs": [],
   "source": [
    "bs = biosafe.biosafe(legalWeights, linksLaw, linksEco, speciesPresence, ecotopeArea)"
   ]
  },
  {
   "cell_type": "code",
   "execution_count": null,
   "metadata": {},
   "outputs": [],
   "source": [
    "lut1 = pd.read_excel(excelFile, sheet_name = 'lut_RWES').fillna(method='ffill')\n",
    "    # this lookup table has:\n",
    "    #       ecotope codes of BIOSAFE in the first column: oldEcotope\n",
    "    #       aggregated/translated ectotopes in the second column: newEcotope\n",
    "linksEco1 = biosafe.aggregateEcotopes(linksEco, lut1)\n",
    "bs.linksEco = linksEco1\n",
    "ecotopeArea1 = pd.DataFrame(np.ones(len(linksEco1.columns)-1) * 1e5,\\\n",
    "                           columns = ['area_m2'],\\\n",
    "                           index = linksEco1.columns.values[0:-1])\n",
    "bs.ecotopeArea = ecotopeArea1\n"
   ]
  },
  {
   "cell_type": "code",
   "execution_count": null,
   "metadata": {},
   "outputs": [],
   "source": [
    "SScoresSpecies = bs.SScoresSpecies()\n",
    "summarySScores = bs.taxGroupSums()\n",
    "SEcoPot = bs.SEcoPot()\n",
    "SEcoAct = bs.SEcoAct()\n",
    "PTE = bs.PTE()\n",
    "ATE = bs.ATE()\n",
    "TES = bs.TES()\n",
    "TEI = bs.TEI()\n",
    "ATEI = bs.ATEI()\n",
    "TFI = bs.TFI()         \n",
    "FI = bs.FI()\n",
    "ATFI = bs.ATFI()         \n",
    "AFI = bs.AFI()\n",
    "FIS = bs.FIS()\n",
    "TFIS = bs.TFIS()\n",
    "TFHS = bs.TFHS()\n",
    "FTEI = bs.FTEI()\n",
    "\n"
   ]
  },
  {
   "cell_type": "code",
   "execution_count": null,
   "metadata": {},
   "outputs": [],
   "source": [
    "bsIO.output2csv(bs, os.path.join(scratch_dir, 'test'))\n",
    "bsIO.output2xlsx(bs, 'output1.xlsx')\n"
   ]
  },
  {
   "cell_type": "code",
   "execution_count": null,
   "metadata": {},
   "outputs": [],
   "source": [
    "#%% test biosafe in spatial mode\n",
    "bsModel = biosafe.biosafe(legalWeights, linksLaw, linksEco, speciesPresence, ecotopeArea)\n"
   ]
  },
  {
   "cell_type": "code",
   "execution_count": null,
   "metadata": {},
   "outputs": [],
   "source": [
    "bsModel.linksEco = linksEco1"
   ]
  },
  {
   "cell_type": "code",
   "execution_count": null,
   "metadata": {},
   "outputs": [],
   "source": [
    "bs_spatial = biosafe.spatialBiosafe(bsModel, ecotopes, flpl_sections, ndff_species,\n",
    "                            params = ['FI', 'TFI'],\n",
    "                            toFiles = None)"
   ]
  },
  {
   "cell_type": "code",
   "execution_count": null,
   "metadata": {},
   "outputs": [],
   "source": [
    "FI, TFI = bs_spatial.spatial()"
   ]
  },
  {
   "cell_type": "code",
   "execution_count": null,
   "metadata": {},
   "outputs": [],
   "source": [
    "#%% Example for Deltares with a measure\n",
    "msr_eco = biosafe.read_map_with_legend(os.path.join(input_dir, 'ecotopes_msr.map'))\n",
    "msr_area = pcr.defined(msr_eco.pcr_map)\n",
    "ref_eco = biosafe.LegendMap(pcr.ifthen(msr_area, ecotopes.pcr_map), msr_eco.legend_df)\n",
    "sections = pcr.ifthen(msr_area, pcr.nominal(1))\n",
    "\n",
    "bs_ref = biosafe.spatialBiosafe(bsModel, ref_eco, sections, ndff_species,\n",
    "                        params = ['FI', 'TFI'], toFiles=None)\n",
    "FI_ref, TFI_ref = bs_ref.spatial()\n",
    "\n",
    "bs_msr = biosafe.spatialBiosafe(bsModel, msr_eco, sections, ndff_species,\n",
    "                        params = ['FI', 'TFI'], toFiles=None)\n",
    "FI_msr, TFI_msr = bs_msr.spatial()\n"
   ]
  },
  {
   "cell_type": "code",
   "execution_count": null,
   "metadata": {
    "scrolled": true
   },
   "outputs": [],
   "source": [
    "#%% Visualization\n",
    "%matplotlib notebook \n",
    "\n",
    "sns.set_style(\"ticks\")\n",
    "TFI_ref.drop(['xcoor', 'ycoor'], axis=1).plot.bar()\n",
    "TFI_msr.drop(['xcoor', 'ycoor'], axis=1).plot.bar()\n",
    "\n",
    "comparison = pd.concat([TFI_ref, TFI_msr]).drop(['xcoor', 'ycoor'], axis=1)\n",
    "comparison.index = ['Reference', 'Measures']\n",
    "comparison.columns = [u'Birds', u'Butterflies', u'Dragon- and damselflies',\n",
    "                    u'Fish', u'Herpetofauna', u'Higher plants', u'Mammals']\n",
    "comparison.columns.name = 'Taxonomic group'\n",
    "\n",
    "comparison.plot.bar(rot=0)\n",
    "\n",
    "\n",
    "plt.savefig('comparison_biosafe.png', dpi=300)\n",
    "comparison.to_csv('comparison_biosafe.csv')\n",
    "\n"
   ]
  },
  {
   "cell_type": "code",
   "execution_count": null,
   "metadata": {},
   "outputs": [],
   "source": []
  }
 ],
 "metadata": {
  "kernelspec": {
   "display_name": "Python 3",
   "language": "python",
   "name": "python3"
  },
  "language_info": {
   "codemirror_mode": {
    "name": "ipython",
    "version": 3
   },
   "file_extension": ".py",
   "mimetype": "text/x-python",
   "name": "python",
   "nbconvert_exporter": "python",
   "pygments_lexer": "ipython3",
   "version": "3.6.9"
  }
 },
 "nbformat": 4,
 "nbformat_minor": 2
}
