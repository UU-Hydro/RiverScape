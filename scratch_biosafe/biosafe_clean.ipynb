{
 "cells": [
  {
   "cell_type": "markdown",
   "metadata": {},
   "source": [
    "Introduction\n",
    "============\n",
    "\n",
    "This notebook facilitates using the RiverScape Python package to evaluate the effects of RiverScape measures on biodivesity using the BIOSAFE model. If this is your first time running the notebook, we advise you to read its reference paper (Straatsma et al., 2017, https://advances.sciencemag.org/content/3/11/e1602762), including its supplementary material (http://advances.sciencemag.org/cgi/content/full/3/11/e1602762/DC1).\n",
    "\n"
   ]
  },
  {
   "cell_type": "markdown",
   "metadata": {},
   "source": [
    "Requirement (Python modules/packages)\n",
    "-------------------------------------\n",
    "\n",
    "To run this notebook, please import the following Python modules."
   ]
  },
  {
   "cell_type": "code",
   "execution_count": null,
   "metadata": {},
   "outputs": [],
   "source": [
    "# import standard modules\n",
    "import os\n",
    "import shutil\n",
    "import sys\n",
    "import string\n",
    "import subprocess\n",
    "import time\n",
    "import math\n",
    "import pprint as pp\n",
    "\n",
    "# import required modules/packages (which may require installation)\n",
    "import numpy as np\n",
    "import pandas as pd\n",
    "import geopandas as gpd\n",
    "import seaborn as sns\n",
    "\n",
    "import matplotlib.pyplot as plt\n",
    "\n",
    "import pcraster as pcr"
   ]
  },
  {
   "cell_type": "markdown",
   "metadata": {},
   "source": [
    "Please also make sure that this notebook file is in the same folder as the RiverScape Python module files that must be loaded. You can then import the RiverScape Python module:"
   ]
  },
  {
   "cell_type": "code",
   "execution_count": null,
   "metadata": {},
   "outputs": [],
   "source": [
    "from riverscape import *\n",
    "import geoviews\n",
    "geoviews.extension('bokeh')"
   ]
  },
  {
   "cell_type": "markdown",
   "metadata": {},
   "source": [
    "Input folder\n",
    "========================\n",
    "\n",
    "The input folder is given in the following. Please adjust if necessary. "
   ]
  },
  {
   "cell_type": "code",
   "execution_count": null,
   "metadata": {},
   "outputs": [],
   "source": [
    "# by default, the input folder are given in the following location that is relative to the current folder \n",
    "github_input_dir_source = \"../input_files/input/bio/\"\n",
    "root_dir = os.getcwd()\n",
    "input_dir_source = os.path.join(root_dir, github_input_dir_source)"
   ]
  },
  {
   "cell_type": "markdown",
   "metadata": {},
   "source": [
    "You may also want to set the input folder, interactively, bu running the following cell. "
   ]
  },
  {
   "cell_type": "code",
   "execution_count": null,
   "metadata": {},
   "outputs": [],
   "source": [
    "# go to the above suggested 'input_dir_source', before opening an interactive window.\n",
    "os.chdir(input_dir_source); input_dir_source = os.getcwd()\n",
    "\n",
    "# open an interactive window\n",
    "get_input_dir_source = \"\"\n",
    "#~ get_input_dir_source = select_directory()\n",
    "# - if cancel or not used, we use the above suggested 'input_dir_source'\n",
    "if get_input_dir_source == \"\" or get_input_dir_source == \"()\": get_input_dir_source = input_dir_source\n",
    "\n",
    "input_dir_source = get_input_dir_source"
   ]
  },
  {
   "cell_type": "code",
   "execution_count": null,
   "metadata": {},
   "outputs": [],
   "source": [
    "msg = \"The input folder is set on   : {}\".format(input_dir_source)\n",
    "print(msg)\n",
    "\n",
    "# return to the root folder for further processes. \n",
    "os.chdir(root_dir)"
   ]
  },
  {
   "cell_type": "markdown",
   "metadata": {},
   "source": [
    "Output (scratch) folder\n",
    "========================\n",
    "\n",
    "Please set your output folder. "
   ]
  },
  {
   "cell_type": "code",
   "execution_count": null,
   "metadata": {},
   "outputs": [],
   "source": [
    "output_folder = \"/scratch-shared/edwinhs/riverscape/biosafe_development/test_biosafe_5/\""
   ]
  },
  {
   "cell_type": "markdown",
   "metadata": {},
   "source": [
    "You can also set the output folder, interactively, by running the following cell. "
   ]
  },
  {
   "cell_type": "code",
   "execution_count": null,
   "metadata": {},
   "outputs": [],
   "source": [
    "# open an interactive window\n",
    "get_output_folder = \"\"\n",
    "#~ get_output_folder = select_directory()\n",
    "# - if cancel or not used, we use the above defined 'output_folder'\n",
    "if get_output_folder == () or get_output_folder == \"\": get_output_folder = output_folder\n",
    "\n",
    "output_folder = get_output_folder"
   ]
  },
  {
   "cell_type": "code",
   "execution_count": null,
   "metadata": {},
   "outputs": [],
   "source": [
    "msg = \"The output folder is set on   : {}\".format(output_folder)\n",
    "print(msg)"
   ]
  },
  {
   "cell_type": "markdown",
   "metadata": {},
   "source": [
    "The files in the input folder will be copied to the output folder.  "
   ]
  },
  {
   "cell_type": "code",
   "execution_count": null,
   "metadata": {},
   "outputs": [],
   "source": [
    "if os.path.exists(output_folder): shutil.rmtree(output_folder)\n",
    "shutil.copytree(input_dir_source, output_folder)\n",
    "\n",
    "# use the output folder as the working directory\n",
    "os.chdir(output_folder)"
   ]
  },
  {
   "cell_type": "markdown",
   "metadata": {},
   "source": [
    "Reading input files\n",
    "========================\n",
    "\n",
    "In this notebook, the Spreadsheet Application For Evaluation of BIOdiversity (BIOSAFE) model (REFERENCES) are applied to calculate biodiversity indices of protected and endangered species that are characteristic of the fluvial environment."
   ]
  },
  {
   "cell_type": "code",
   "execution_count": null,
   "metadata": {},
   "outputs": [],
   "source": [
    "# the original excel file\n",
    "# excelFile = os.path.join(input_dir, 'BIOSAFE_20150629.xlsx')"
   ]
  },
  {
   "cell_type": "markdown",
   "metadata": {},
   "source": [
    "\n",
    "The first input to the spreadsheet is a matrix **legalWeights** (Legislative Weights) of user-specified weights for 16 different policy and legislative documents. The 16 legal documents considered are the most recent versions of: Dutch Red List species that are based on the criteria of the International Union for Conservation of Nature (IUCN), Dutch Flora and Fauna Act, EU Habitat Directive, EU Birds Directive, Bern Convention, and Bonn Convention. We assumed equal weights, attributing equal value to the protection by each of the legal and policy documents. \n",
    "\n",
    "Please execute the following cell to read and visualize the **legalWeights** used in this study. "
   ]
  },
  {
   "cell_type": "code",
   "execution_count": null,
   "metadata": {},
   "outputs": [],
   "source": [
    "legalWeights = pd.read_csv(os.path.join(output_folder, 'legalWeights.csv'), index_col = 0)\n",
    "bsIO.show_full_data_frame(legalWeights)"
   ]
  },
  {
   "cell_type": "markdown",
   "metadata": {},
   "source": [
    "The second input is **linksLaw** (Legal Links), which is a relational matrix that links species(s) along the rows to the relevant policy and legislative documents (**legalWeights**) along the columns. If a species is protected by or mentioned in a specific law, the corresponding cell in the matrix is given a value of one, else the cell is zero.\n",
    "\n",
    "Please execute the following cell to read and visualize the **linksLaw** used in this study. "
   ]
  },
  {
   "cell_type": "code",
   "execution_count": null,
   "metadata": {},
   "outputs": [],
   "source": [
    "linksLaw = pd.read_csv(os.path.join(output_folder, 'linksLaw.csv'), index_col = 0)\n",
    "bsIO.show_full_data_frame(linksLaw)\n",
    "\n",
    "#TODO: Formating 0 and 1 without decimal"
   ]
  },
  {
   "cell_type": "markdown",
   "metadata": {},
   "source": [
    "The third input is **linksEco** (Ecotope Links), which is the relational matrix between species and ecotopes. The matrix is based on expert ecological judgement of species and their hydromorphological and vegetation habitat needs in different life stages. \n",
    "\n",
    "Please execute the following cell to read and visualize the **linksEco** used in this study."
   ]
  },
  {
   "cell_type": "code",
   "execution_count": null,
   "metadata": {},
   "outputs": [],
   "source": [
    "linksEco = pd.read_csv(os.path.join(output_folder, 'linksEco.csv'), index_col = 0)\n",
    "bsIO.show_full_data_frame(linksEco)"
   ]
  },
  {
   "cell_type": "markdown",
   "metadata": {},
   "source": [
    "The column titles in linksEco represent the ecotope classes used in this study. In addition to them, we introduce their merged/main classes based on the following matrix **lut** that can be read and visualized by executing the following notebook cell. The column oldEcotope represents the ecotope classes given along the top rows of linksEco, while the classes in the column newEcotope are their merged ecotope classes.    "
   ]
  },
  {
   "cell_type": "code",
   "execution_count": null,
   "metadata": {},
   "outputs": [],
   "source": [
    "excelFile = os.path.join(output_folder, 'BIOSAFE_20150629.xlsx')\n",
    "lut = pd.read_excel(excelFile, sheet_name = 'lut_RWES').fillna(method='ffill')\n",
    "bsIO.show_full_data_frame(lut)"
   ]
  },
  {
   "cell_type": "markdown",
   "metadata": {},
   "source": [
    "Based on **lut** (relation between oldEcotope and newEcotope), we can derive \"linksNewEcoAgg\" Ecotope Links, consisting oldEcotope and newEcotope, by running the following notebook cell. "
   ]
  },
  {
   "cell_type": "code",
   "execution_count": null,
   "metadata": {},
   "outputs": [],
   "source": [
    "linksNewEcoAgg = biosafe.aggregateEcotopes(linksEco, lut)\n",
    "bsIO.show_full_data_frame(linksNewEcoAgg)"
   ]
  },
  {
   "cell_type": "code",
   "execution_count": null,
   "metadata": {},
   "outputs": [],
   "source": [
    "print(linksEco.shape)\n",
    "print(linksNewEcoAgg.shape)"
   ]
  },
  {
   "cell_type": "markdown",
   "metadata": {},
   "source": [
    "Understanding/testing BIOSAFE in a simple single instance (non-spatial mode)\n",
    "========================\n",
    "\n",
    "To understand the BIOSAFE model, we introduce the following exercise running the BIOSAFE model in a simple single instance.   "
   ]
  },
  {
   "cell_type": "markdown",
   "metadata": {},
   "source": [
    "For this exercise, we randomly draw the presence of each species by running the following cell. The assumption drawn is given in the table, paricularly in the column **speciesPresence**, with the values 0 and 1 indicating absent and present.  "
   ]
  },
  {
   "cell_type": "code",
   "execution_count": null,
   "metadata": {},
   "outputs": [],
   "source": [
    "speciesPresence = pd.DataFrame(np.random.randint(2, size=len(linksLaw)),\\\n",
    "                    columns=['speciesPresence'], \\\n",
    "                    index=linksLaw.index)\n",
    "bsIO.show_full_data_frame(speciesPresence)"
   ]
  },
  {
   "cell_type": "code",
   "execution_count": null,
   "metadata": {},
   "outputs": [],
   "source": [
    "# TODO: Menno may want to reduce a number of species. "
   ]
  },
  {
   "cell_type": "markdown",
   "metadata": {},
   "source": [
    "For this exercise, we simplify all areas of ecotope classes (**ecotopeArea**) equal to 1e5 m2. This is done by running the following cell. "
   ]
  },
  {
   "cell_type": "code",
   "execution_count": null,
   "metadata": {},
   "outputs": [],
   "source": [
    "ecotopeArea = pd.DataFrame(np.ones(len(linksNewEcoAgg.columns)-1) * 1e5,\\\n",
    "                           columns = ['area_m2'],\\\n",
    "                           index = linksNewEcoAgg.columns.values[0:-1])\n",
    "bsIO.show_full_data_frame(ecotopeArea)"
   ]
  },
  {
   "cell_type": "markdown",
   "metadata": {},
   "source": [
    "Running the BIOSAFE in a simple single instance (non-spatial mode)\n",
    "========================\n",
    "\n",
    "Given the aforementioned inputs **legalWeights**, **linksLaw** and **linksNewEcoAgg**, as well as the assumption **speciesPresence** and **ecotopeArea**, the BIOSAFE model is initiated by running the following cell.   "
   ]
  },
  {
   "cell_type": "code",
   "execution_count": null,
   "metadata": {},
   "outputs": [],
   "source": [
    "bs = biosafe.biosafe(legalWeights, linksLaw, linksNewEcoAgg, speciesPresence, ecotopeArea)"
   ]
  },
  {
   "cell_type": "markdown",
   "metadata": {},
   "source": [
    "Then, we can calculate the BIOSAFE scores as follows. "
   ]
  },
  {
   "cell_type": "code",
   "execution_count": null,
   "metadata": {},
   "outputs": [],
   "source": [
    "SScoresSpecies = bs.SScoresSpecies()\n",
    "summarySScores = bs.taxGroupSums()\n",
    "SEcoPot = bs.SEcoPot()\n",
    "SEcoAct = bs.SEcoAct()\n",
    "PTE = bs.PTE()\n",
    "ATE = bs.ATE()\n",
    "TES = bs.TES()\n",
    "TEI = bs.TEI()\n",
    "ATEI = bs.ATEI()\n",
    "TFI = bs.TFI()\n",
    "FI = bs.FI()\n",
    "ATFI = bs.ATFI()\n",
    "AFI = bs.AFI()\n",
    "FIS = bs.FIS()\n",
    "TFIS = bs.TFIS()\n",
    "TFHS = bs.TFHS()\n",
    "FTEI = bs.FTEI()"
   ]
  },
  {
   "cell_type": "markdown",
   "metadata": {},
   "source": [
    "For each species, the calculated potential and actual species scores, Spotential and Sactual (PSS and ASS in the paper), are given as follows. "
   ]
  },
  {
   "cell_type": "code",
   "execution_count": null,
   "metadata": {},
   "outputs": [],
   "source": [
    "bsIO.show_full_data_frame(SScoresSpecies)"
   ]
  },
  {
   "cell_type": "markdown",
   "metadata": {},
   "source": [
    "For each taxonomic group, the potential and actual taxonomic group scores, PTB and ATB, can be calculated as follows. In addition, the taxonomic group biodiversity, TBS, saturation can also be calculated. "
   ]
  },
  {
   "cell_type": "code",
   "execution_count": null,
   "metadata": {},
   "outputs": [],
   "source": [
    "bsIO.show_full_data_frame(summarySScores)"
   ]
  },
  {
   "cell_type": "markdown",
   "metadata": {},
   "source": [
    "For each ecotope area, we can also compute the potentil and actual species specific S scores for each ecotope. Their values for each species and ecotope areas are given in the following two cells, the first one shows their potential scores, SEcoPot, while the latter contains their actual scores, SEcoAct. "
   ]
  },
  {
   "cell_type": "code",
   "execution_count": null,
   "metadata": {},
   "outputs": [],
   "source": [
    "bsIO.show_full_data_frame(SEcoPot)"
   ]
  },
  {
   "cell_type": "code",
   "execution_count": null,
   "metadata": {},
   "outputs": [],
   "source": [
    "bsIO.show_full_data_frame(SEcoAct)"
   ]
  },
  {
   "cell_type": "markdown",
   "metadata": {},
   "source": [
    "For each taxonomic group, the sum of SEcoPot can be calculated as PTE, potential taxonomic group ecotope constant.  "
   ]
  },
  {
   "cell_type": "code",
   "execution_count": null,
   "metadata": {},
   "outputs": [],
   "source": [
    "bsIO.show_full_data_frame(PTE)"
   ]
  },
  {
   "cell_type": "markdown",
   "metadata": {},
   "source": [
    "For each taxonomic group, the sum of SEcoAct can be calculated as ATE, actual taxonomic group ecotope constant.  "
   ]
  },
  {
   "cell_type": "code",
   "execution_count": null,
   "metadata": {},
   "outputs": [],
   "source": [
    "bsIO.show_full_data_frame(ATE)"
   ]
  },
  {
   "cell_type": "markdown",
   "metadata": {},
   "source": [
    "Based on ATE and PTE, we can calculate TES, taxonomic group ecotope saturation index."
   ]
  },
  {
   "cell_type": "code",
   "execution_count": null,
   "metadata": {},
   "outputs": [],
   "source": [
    "bsIO.show_full_data_frame(TES)"
   ]
  },
  {
   "cell_type": "markdown",
   "metadata": {},
   "source": [
    "Based on PTB and PTE, we can calculate TEI, taxonomic group ecotope importance constant."
   ]
  },
  {
   "cell_type": "code",
   "execution_count": null,
   "metadata": {},
   "outputs": [],
   "source": [
    "bsIO.show_full_data_frame(TEI)"
   ]
  },
  {
   "cell_type": "markdown",
   "metadata": {},
   "source": [
    "Based on TEI and TES, we can calculate ATEI (ATE in the paper), actual taxonomic group ecotope constant."
   ]
  },
  {
   "cell_type": "code",
   "execution_count": null,
   "metadata": {},
   "outputs": [],
   "source": [
    "bsIO.show_full_data_frame(ATEI)"
   ]
  },
  {
   "cell_type": "markdown",
   "metadata": {},
   "source": [
    "Based on the ecotopeArea assumed above and TEI, the potential taxonomic group flood plain importance score, TFI (PotTax in the paper), can be calculated as follows.  "
   ]
  },
  {
   "cell_type": "code",
   "execution_count": null,
   "metadata": {},
   "outputs": [],
   "source": [
    "bsIO.show_full_data_frame(TFI)"
   ]
  },
  {
   "cell_type": "markdown",
   "metadata": {},
   "source": [
    "The sum of TFI is reported as FI (PotAll), the potential floodplain importance score."
   ]
  },
  {
   "cell_type": "code",
   "execution_count": null,
   "metadata": {},
   "outputs": [],
   "source": [
    "bsIO.show_full_data_frame(FI)"
   ]
  },
  {
   "cell_type": "markdown",
   "metadata": {},
   "source": [
    "Based on the ecotopeArea assumed above and ATEI, the actual taxonomic group flood plain importance score, ATFI (ActTax in the paper), can be calculated as follows.  "
   ]
  },
  {
   "cell_type": "code",
   "execution_count": null,
   "metadata": {},
   "outputs": [],
   "source": [
    "bsIO.show_full_data_frame(ATFI)"
   ]
  },
  {
   "cell_type": "markdown",
   "metadata": {},
   "source": [
    "The sum of ATFI is reported as AFI (ActAll), the actual floodplain importance score."
   ]
  },
  {
   "cell_type": "code",
   "execution_count": null,
   "metadata": {},
   "outputs": [],
   "source": [
    "bsIO.show_full_data_frame(AFI)"
   ]
  },
  {
   "cell_type": "markdown",
   "metadata": {},
   "source": [
    "Based on AFI and FI, the floodplain importance saturation, FIS (SatAll in the paper), can be calculated as follows. "
   ]
  },
  {
   "cell_type": "code",
   "execution_count": null,
   "metadata": {},
   "outputs": [],
   "source": [
    "bsIO.show_full_data_frame(FIS)"
   ]
  },
  {
   "cell_type": "markdown",
   "metadata": {},
   "source": [
    "For each taxonomic group, the taxonomic group floodplain importance saturation, TFIS (SatTax in the paper), can be calculated based on ATFI and FIS. TFIS describes the fraction/saturation of actual over potential biodiversity. "
   ]
  },
  {
   "cell_type": "code",
   "execution_count": null,
   "metadata": {},
   "outputs": [],
   "source": [
    "bsIO.show_full_data_frame(TFIS)"
   ]
  },
  {
   "cell_type": "markdown",
   "metadata": {},
   "source": [
    "Based on TEI and ecotopeArea, we can calculate TFHS (HabDiv in the paper), the taxonomic group floodplain habitat saturation, which describes the fraction of suitable ecotopes, weighed by law, for each taxonomic group. "
   ]
  },
  {
   "cell_type": "code",
   "execution_count": null,
   "metadata": {},
   "outputs": [],
   "source": [
    "bsIO.show_full_data_frame(TFHS)"
   ]
  },
  {
   "cell_type": "code",
   "execution_count": null,
   "metadata": {},
   "outputs": [],
   "source": [
    "# bsIO.show_full_data_frame(FTEI)\n",
    "# FTEI is not found in the paper. "
   ]
  },
  {
   "cell_type": "markdown",
   "metadata": {},
   "source": [
    "Running the BIOSAFE in a spatial mode\n",
    "========================\n",
    "\n",
    "In the following cells, we will demonstrate the BIOSAFE model in a spatial model. "
   ]
  },
  {
   "cell_type": "markdown",
   "metadata": {},
   "source": [
    "We assume the following inputs of floodplain section map, **flpl_sections**, and ecotope map, **ecotopes**"
   ]
  },
  {
   "cell_type": "code",
   "execution_count": null,
   "metadata": {},
   "outputs": [],
   "source": [
    "flpl_sections_f = os.path.join(output_folder, 'flpl_sections.map')\n",
    "pcr.setclone(flpl_sections_f)\n",
    "flpl_sections = pcr.readmap(flpl_sections_f)\n",
    "plot(flpl_sections)"
   ]
  },
  {
   "cell_type": "code",
   "execution_count": null,
   "metadata": {},
   "outputs": [],
   "source": [
    "ecotopes = biosafe.read_map_with_legend(os.path.join(output_folder, 'ecotopes.map'))\n",
    "plot(ecotopes.pcr_map)\n",
    "#TODO: Improving the plotting of ecotopes. "
   ]
  },
  {
   "cell_type": "markdown",
   "metadata": {},
   "source": [
    "The species presence and characteristics are given in the following database ndff_species. "
   ]
  },
  {
   "cell_type": "code",
   "execution_count": null,
   "metadata": {},
   "outputs": [],
   "source": [
    "ndff_species = pd.read_pickle(os.path.join(output_folder, 'ndff_sub_BS_13.pkl'))"
   ]
  },
  {
   "cell_type": "code",
   "execution_count": null,
   "metadata": {},
   "outputs": [],
   "source": [
    "bsIO.show_full_data_frame(ndff_species)"
   ]
  },
  {
   "cell_type": "markdown",
   "metadata": {},
   "source": [
    "Given the inputs defined above, we can initiate the BIOSAFE model in a spatial model by running the following cell. For this example, we calculate the parameters FI and TFI. \n",
    "\n",
    "Note that the inputs of speciesPresence and ecotopoArea are calculated based on ndff_species and flpl_sections (i.e. the aforementioned speciesPresence and ecotopoArea values are overwritten). "
   ]
  },
  {
   "cell_type": "code",
   "execution_count": null,
   "metadata": {},
   "outputs": [],
   "source": [
    "bs_spatial = biosafe.spatialBiosafe(bs, ecotopes, flpl_sections, ndff_species,\n",
    "                            params = ['FI', 'TFI'],\n",
    "                            toFiles = None)\n",
    "FI, TFI = bs_spatial.spatial()\n",
    "\n",
    "\n",
    "#TODO: Remove the print statement '<class 'pcraster._pcraster.Field>'"
   ]
  },
  {
   "cell_type": "code",
   "execution_count": null,
   "metadata": {},
   "outputs": [],
   "source": [
    "The calculated FI values for all floodplain IDs are given as follows. "
   ]
  },
  {
   "cell_type": "code",
   "execution_count": null,
   "metadata": {},
   "outputs": [],
   "source": [
    "bsIO.show_full_data_frame(FI)"
   ]
  },
  {
   "cell_type": "markdown",
   "metadata": {},
   "source": [
    "The calculated TFI values are given as follows (for each taxonomic group and floodplain section). "
   ]
  },
  {
   "cell_type": "code",
   "execution_count": null,
   "metadata": {},
   "outputs": [],
   "source": [
    "bsIO.show_full_data_frame(TFI)"
   ]
  },
  {
   "cell_type": "markdown",
   "metadata": {},
   "source": [
    "We load the ecotope"
   ]
  },
  {
   "cell_type": "code",
   "execution_count": null,
   "metadata": {},
   "outputs": [],
   "source": [
    "msr_eco = biosafe.read_map_with_legend(os.path.join(input_dir, 'ecotopes_msr.map'))\n",
    "msr_area = pcr.defined(msr_eco.pcr_map)\n",
    "ref_eco = biosafe.LegendMap(pcr.ifthen(msr_area, ecotopes.pcr_map), msr_eco.legend_df)\n",
    "sections = pcr.ifthen(msr_area, pcr.nominal(1))"
   ]
  },
  {
   "cell_type": "code",
   "execution_count": null,
   "metadata": {},
   "outputs": [],
   "source": [
    "#%% Example for Deltares with a measure\n",
    "msr_eco = biosafe.read_map_with_legend(os.path.join(input_dir, 'ecotopes_msr.map'))\n",
    "msr_area = pcr.defined(msr_eco.pcr_map)\n",
    "ref_eco = biosafe.LegendMap(pcr.ifthen(msr_area, ecotopes.pcr_map), msr_eco.legend_df)\n",
    "sections = pcr.ifthen(msr_area, pcr.nominal(1))\n",
    "\n",
    "bs_ref = biosafe.spatialBiosafe(bsModel, ref_eco, sections, ndff_species,\n",
    "                        params = ['FI', 'TFI'], toFiles=None)\n",
    "FI_ref, TFI_ref = bs_ref.spatial()\n",
    "\n",
    "bs_msr = biosafe.spatialBiosafe(bsModel, msr_eco, sections, ndff_species,\n",
    "                        params = ['FI', 'TFI'], toFiles=None)\n",
    "FI_msr, TFI_msr = bs_msr.spatial()\n"
   ]
  },
  {
   "cell_type": "code",
   "execution_count": null,
   "metadata": {},
   "outputs": [],
   "source": [
    "#%% Visualization\n",
    "%matplotlib notebook \n",
    "\n",
    "sns.set_style(\"ticks\")\n",
    "TFI_ref.drop(['xcoor', 'ycoor'], axis=1).plot.bar()\n",
    "TFI_msr.drop(['xcoor', 'ycoor'], axis=1).plot.bar()\n",
    "\n",
    "comparison = pd.concat([TFI_ref, TFI_msr]).drop(['xcoor', 'ycoor'], axis=1)\n",
    "comparison.index = ['Reference', 'Measures']\n",
    "comparison.columns = [u'Birds', u'Butterflies', u'Dragon- and damselflies',\n",
    "                    u'Fish', u'Herpetofauna', u'Higher plants', u'Mammals']\n",
    "comparison.columns.name = 'Taxonomic group'\n",
    "\n",
    "comparison.plot.bar(rot=0)\n",
    "\n",
    "\n",
    "plt.savefig('comparison_biosafe.png', dpi=300)\n",
    "comparison.to_csv('comparison_biosafe.csv')\n",
    "\n"
   ]
  },
  {
   "cell_type": "code",
   "execution_count": null,
   "metadata": {},
   "outputs": [],
   "source": [
    "# #%% Visualization\n",
    "# %matplotlib notebook \n",
    "# \n",
    "# sns.set_style(\"ticks\")\n",
    "# FI_ref.drop(['xcoor', 'ycoor'], axis=1).plot.bar()\n",
    "# FI_msr.drop(['xcoor', 'ycoor'], axis=1).plot.bar()\n",
    "# \n",
    "# comparison = pd.concat([FI_ref, FI_msr]).drop(['xcoor', 'ycoor'], axis=1)\n",
    "# comparison.index = ['Reference', 'Measures']\n",
    "#comparison.columns = [u'Birds', u'Butterflies', u'Dragon- and damselflies',\n",
    "#                    u'Fish', u'Herpetofauna', u'Higher plants', u'Mammals']\n",
    "#comparison.columns.name = 'Taxonomic group'\n",
    "\n",
    "# comparison.plot.bar(rot=0)\n",
    "\n",
    "\n",
    "# plt.savefig('comparison_biosafe_FI.png', dpi=300)\n",
    "# comparison.to_csv('comparison_biosafe_FI.csv')"
   ]
  },
  {
   "cell_type": "code",
   "execution_count": null,
   "metadata": {},
   "outputs": [],
   "source": []
  }
 ],
 "metadata": {
  "kernelspec": {
   "display_name": "Python 3",
   "language": "python",
   "name": "python3"
  },
  "language_info": {
   "codemirror_mode": {
    "name": "ipython",
    "version": 3
   },
   "file_extension": ".py",
   "mimetype": "text/x-python",
   "name": "python",
   "nbconvert_exporter": "python",
   "pygments_lexer": "ipython3",
   "version": "3.8.1"
  }
 },
 "nbformat": 4,
 "nbformat_minor": 2
}
