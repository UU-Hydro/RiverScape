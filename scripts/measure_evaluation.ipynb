{
 "cells": [
  {
   "cell_type": "markdown",
   "metadata": {},
   "source": [
    "Evaluating pre-defined measures\n",
    "===============================\n",
    "\n",
    "Overview\n",
    "--------\n",
    "\n",
    "This notebook gives an additional insight how RiverScape model and\n",
    "scenario outputs can be evaluated. This demonstration will also include\n",
    "water level changes resulting from a hydrodynamic model [(Delft3D\n",
    "Flexible Mesh)](https://oss.deltares.nl/web/delft3dfm), whose execution\n",
    "is not part of this set of notebooks due to significant computational\n",
    "requirements. In this notebook we therefore use a set outputs from a\n",
    "preprocessed model. The measures used in that model run were\n",
    "parameterised on two principles: nature restoration and maximising flood\n",
    "conveyance capacity. For a detailed explanation of the measures used\n",
    "here we refer to the publication ‘Towards multi-objective optimization\n",
    "of large-scale fluvial landscaping measures’ by [Straatsma et\n",
    "al. (2019)](https://doi.org/10.5194/nhess-19-1167-2019).\n",
    "\n",
    "How to start\n",
    "------------\n",
    "\n",
    "### Extract the example data\n",
    "\n",
    "The required dataset is provided as compressed file\n",
    "*example\\_measures\\_waal.zip* located in the *output* directory. If you\n",
    "have not done so far, extract the contents of the file into the output\n",
    "directory.\n",
    "\n",
    "### Setting up the environment\n",
    "\n",
    "As before, import the RiverScape and additional required Python modules\n",
    "to run this notebook:"
   ]
  },
  {
   "cell_type": "code",
   "execution_count": null,
   "metadata": {},
   "outputs": [],
   "source": [
    "# Standard and scientific modules\n",
    "import numpy\n",
    "import os\n",
    "import pandas\n",
    "\n",
    "# Visualisation\n",
    "import geoviews\n",
    "geoviews.extension('bokeh')\n",
    "\n",
    "\n",
    "# Modelling\n",
    "import riverscape"
   ]
  },
  {
   "cell_type": "markdown",
   "metadata": {},
   "source": [
    "### Specify the input data location\n",
    "\n",
    "In case you extracted the example data in the output folder you can just\n",
    "use the following to determine the input path:"
   ]
  },
  {
   "cell_type": "code",
   "execution_count": null,
   "metadata": {},
   "outputs": [],
   "source": [
    "measure_dir = os.path.join('..', 'outputs', 'example_measures_waal', 'maps')"
   ]
  },
  {
   "cell_type": "markdown",
   "metadata": {},
   "source": [
    "Otherwise, uncomment and select the *maps* subdirectory of the example\n",
    "data directory:"
   ]
  },
  {
   "cell_type": "code",
   "execution_count": null,
   "metadata": {},
   "outputs": [],
   "source": [
    "# measure_dir = select_directory()"
   ]
  },
  {
   "cell_type": "markdown",
   "metadata": {},
   "source": [
    "You can inspect the path to the input directory by printing it:"
   ]
  },
  {
   "cell_type": "code",
   "execution_count": null,
   "metadata": {},
   "outputs": [],
   "source": [
    "print(measure_dir)"
   ]
  },
  {
   "cell_type": "markdown",
   "metadata": {},
   "source": [
    "Evaluation of water level changes\n",
    "---------------------------------\n",
    "\n",
    "One output that is not computed in this set of notebooks by a model run\n",
    "is the hydrodynamic model due to its computational requirements. Still,\n",
    "to give an impression about the resulting potential water level changes\n",
    "you can plot the result from a pre-calculated model run. All measures\n",
    "were evaluated in combination with the hydrodynamic model Delft3D\n",
    "Flexible Mesh.\n",
    "\n",
    "Executing the following cell will show plots of level water level\n",
    "changes along the river (in km) per measure, here exemplary for the Q16\n",
    "design discharge (10165 m3s-1)."
   ]
  },
  {
   "cell_type": "code",
   "execution_count": null,
   "metadata": {},
   "outputs": [],
   "source": [
    "riverscape.plot_water_level_change()"
   ]
  },
  {
   "cell_type": "markdown",
   "metadata": {},
   "source": [
    "Exploring a set of measures <!--stimation of optimal solutions-->\n",
    "-----------------------------------------------------------------\n",
    "\n",
    "A broad set of model parameters results in a large parameter space, and\n",
    "measures parameterised differently may result in a large spread of\n",
    "potential outcomes. To give an better insight into the variation of\n",
    "outcomes we can plot certain variables against each other, for example,\n",
    "the number of involved landowners against the implementation costs. This\n",
    "way it is possible to indicate the trade-offs of different landscaping\n",
    "measures.\n",
    "\n",
    "Executing the following cell will create a scatterplot matrix of the\n",
    "major intervention planning criteria. In the scatterplot matrix, the\n",
    "lower left corners of the subplots indicate an utopian situation, to the\n",
    "upper right the situation gets dystopian. The Pareto fronts indicate\n",
    "optimal combinations of measure configurations. PotAll refers to the\n",
    "potential biodiversity score, the PotAll axes were reversed to\n",
    "synchronise utopia to the lower left. Rectangles indicate measures of\n",
    "type natural, squares of type smooth. The reference scenario is\n",
    "indicated by the red diamond.\n",
    "\n",
    "Hovering the symbols will indicate the name of the underlying measure."
   ]
  },
  {
   "cell_type": "code",
   "execution_count": null,
   "metadata": {},
   "outputs": [],
   "source": [
    "riverscape.plot_scatter()"
   ]
  },
  {
   "cell_type": "markdown",
   "metadata": {},
   "source": [
    "Exploring your set of measures\n",
    "------------------------------\n",
    "\n",
    "You can also compare effects of your measures with other measures by\n",
    "adding your measure (i.e. position in the state space) to the\n",
    "scatterplot matrix. Specify your inputs by using values from the\n",
    "previous notebooks or use default values."
   ]
  },
  {
   "cell_type": "code",
   "execution_count": null,
   "metadata": {},
   "outputs": [],
   "source": [
    "# Measure name\n",
    "label = 'my_measure'\n",
    "\n",
    "# Water level lowering\n",
    "delta_water = -0.20\n",
    "\n",
    "# Involved stakeholders\n",
    "nr_stakeholders = 800\n",
    "\n",
    "# Estimated costs\n",
    "implementation_costs = 120000000\n",
    "\n",
    "# Biodiversity score\n",
    "potAll = 107.3"
   ]
  },
  {
   "cell_type": "markdown",
   "metadata": {},
   "source": [
    "and plot the scatterplot matrix again with your data added. Your measure\n",
    "will show up as golden hexagonal marker."
   ]
  },
  {
   "cell_type": "code",
   "execution_count": null,
   "metadata": {},
   "outputs": [],
   "source": [
    "riverscape.plot_scatter(label, delta_water, nr_stakeholders, implementation_costs, potAll)"
   ]
  },
  {
   "cell_type": "markdown",
   "metadata": {},
   "source": [
    "In the individual scatterplots, the hovering tool of the plot markers\n",
    "will show the name of a measure. It is also possible to visualise the\n",
    "spatial datasets underlying a particular measure. Execute the next code\n",
    "cell and you can select the measure you want to display from the\n",
    "dropdown menu. Please note that updating the plots may take a moment."
   ]
  },
  {
   "cell_type": "code",
   "execution_count": null,
   "metadata": {},
   "outputs": [],
   "source": [
    "riverscape.plot_measures(measure_dir)"
   ]
  }
 ],
 "nbformat": 4,
 "nbformat_minor": 5,
 "metadata": {}
}
