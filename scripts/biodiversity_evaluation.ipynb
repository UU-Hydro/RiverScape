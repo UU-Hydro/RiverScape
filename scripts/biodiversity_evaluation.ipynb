{
 "cells": [
  {
   "cell_type": "markdown",
   "metadata": {},
   "source": [
    "Evaluating the biodiversity changes (BIOSAFE)\n",
    "=============================================\n",
    "\n",
    "Overview\n",
    "--------\n",
    "\n",
    "This notebook facilitates using the RiverScape Python package to\n",
    "evaluate the effects of RiverScape measures on biodivesity using the\n",
    "BIOSAFE model. If this is your first time running the notebook, we\n",
    "advise you to read its reference paper ([Straatsma et al.,\n",
    "2017](https://advances.sciencemag.org/content/3/11/e1602762), including\n",
    "its [supplementary\n",
    "material](http://advances.sciencemag.org/cgi/content/full/3/11/e1602762/DC1)).\n",
    "\n",
    "<!--\n",
    "``` code\n",
    "# to display all output from a cell\n",
    "from IPython.core.interactiveshell import InteractiveShell\n",
    "InteractiveShell.ast_node_interactivity = \"all\"\n",
    "# see: https://ipython.readthedocs.io/en/stable/config/options/terminal.html#configtrait-InteractiveShell.ast_node_interactivity\n",
    "```-->\n",
    "\n",
    "Requirement (Python modules/packages)\n",
    "-------------------------------------\n",
    "\n",
    "To run this notebook, please import the following Python modules."
   ]
  },
  {
   "cell_type": "code",
   "execution_count": null,
   "metadata": {},
   "outputs": [],
   "source": [
    "# import standard modules\n",
    "import os\n",
    "import shutil\n",
    "import sys\n",
    "import string\n",
    "import subprocess\n",
    "import time\n",
    "import math\n",
    "import pprint as pp\n",
    "\n",
    "# import required modules/packages (which may require installation)\n",
    "import numpy as np\n",
    "import pandas as pd\n",
    "import geopandas as gpd\n",
    "import seaborn as sns\n",
    "\n",
    "import matplotlib.pyplot as plt\n",
    "\n",
    "import pcraster as pcr"
   ]
  },
  {
   "cell_type": "markdown",
   "metadata": {},
   "source": [
    "Please also make sure that this notebook file is in the same folder as\n",
    "the RiverScape Python module files that must be loaded. You can then\n",
    "import the RiverScape Python module by running the following cell."
   ]
  },
  {
   "cell_type": "code",
   "execution_count": null,
   "metadata": {},
   "outputs": [],
   "source": [
    "from riverscape import *\n",
    "import geoviews\n",
    "geoviews.extension('bokeh')\n",
    "\n",
    "%reload_ext autoreload\n",
    "%autoreload 2"
   ]
  },
  {
   "cell_type": "markdown",
   "metadata": {},
   "source": [
    "Input folder\n",
    "============\n",
    "\n",
    "The input folder is given in the following location."
   ]
  },
  {
   "cell_type": "code",
   "execution_count": null,
   "metadata": {},
   "outputs": [],
   "source": [
    "# set the current directory as the root directory\n",
    "try:\n",
    "    if root_dir == None: root_dir = os.getcwd()\n",
    "except:\n",
    "    root_dir = os.getcwd()\n",
    "\n",
    "# by default, the input folder is given in the following location that is relative to the root directory (the current directory)\n",
    "github_input_dir_source = os.path.join('..', 'input_files', 'input', 'bio')\n",
    "input_dir_source = os.path.join(root_dir, github_input_dir_source)"
   ]
  },
  {
   "cell_type": "markdown",
   "metadata": {},
   "source": [
    "You may also want to set the input folder, interactively, by running the\n",
    "following cells."
   ]
  },
  {
   "cell_type": "code",
   "execution_count": null,
   "metadata": {},
   "outputs": [],
   "source": [
    "# go to the above suggested 'input_dir_source'\n",
    "os.chdir(input_dir_source); input_dir_source = os.getcwd()\n",
    "\n",
    "# open an interactive window\n",
    "get_input_dir_source = \"\"\n",
    "# get_input_dir_source = select_directory()\n",
    "# - if cancel or not used, we use the above suggested 'input_dir_source'\n",
    "if get_input_dir_source == \"\" or get_input_dir_source == \"()\": get_input_dir_source = input_dir_source\n",
    "\n",
    "input_dir_source = get_input_dir_source"
   ]
  },
  {
   "cell_type": "code",
   "execution_count": null,
   "metadata": {},
   "outputs": [],
   "source": [
    "msg = \"The input folder is set to: {}\".format(input_dir_source)\n",
    "print(msg)\n",
    "\n",
    "# return to the root folder for further processes.\n",
    "os.chdir(root_dir)"
   ]
  },
  {
   "cell_type": "markdown",
   "metadata": {},
   "source": [
    "Output folder\n",
    "=============\n",
    "\n",
    "Please set your output folder. It will be generated in case it does not\n",
    "exist. Please adjust the location if necessary."
   ]
  },
  {
   "cell_type": "code",
   "execution_count": null,
   "metadata": {},
   "outputs": [],
   "source": [
    "output_folder_name = 'output_bio'\n",
    "output_folder = os.path.join(os.getcwd(), output_folder_name)\n",
    "if not os.path.exists(output_folder):\n",
    "    os.mkdir(output_folder)"
   ]
  },
  {
   "cell_type": "markdown",
   "metadata": {},
   "source": [
    "You can also set the output folder interactively. Uncomment the\n",
    "following lines and run the following cells."
   ]
  },
  {
   "cell_type": "code",
   "execution_count": null,
   "metadata": {},
   "outputs": [],
   "source": [
    "# # open an interactive window\n",
    "# get_output_folder = \"\"\n",
    "# get_output_folder = select_directory()\n",
    "# # - if cancel or not used, we use the above defined 'output_folder'\n",
    "# if get_output_folder == () or get_output_folder == \"\": get_output_folder = output_folder\n",
    "\n",
    "# output_folder = get_output_folder"
   ]
  },
  {
   "cell_type": "markdown",
   "metadata": {},
   "source": [
    "To inspect the output path print it:"
   ]
  },
  {
   "cell_type": "code",
   "execution_count": null,
   "metadata": {},
   "outputs": [],
   "source": [
    "print('Output folder set to: {}'.format(output_folder))"
   ]
  },
  {
   "cell_type": "markdown",
   "metadata": {},
   "source": [
    "The files in the input folder will be copied to the output folder. The\n",
    "output folder will also be set as the working directory. All plots would\n",
    "be saved in this directory."
   ]
  },
  {
   "cell_type": "code",
   "execution_count": null,
   "metadata": {},
   "outputs": [],
   "source": [
    "# safe copying method\n",
    "source = os.listdir(input_dir_source)\n",
    "destination = output_folder\n",
    "for files in source:\n",
    "    shutil.copy(os.path.join(input_dir_source, files), destination)\n",
    "\n",
    "#~ # dangerous copying method\n",
    "#~ if os.path.exists(output_folder): shutil.rmtree(output_folder)\n",
    "#~ shutil.copytree(input_dir_source, input_dir_source)\n",
    "\n",
    "# use the output folder as the working directory\n",
    "os.chdir(output_folder)"
   ]
  },
  {
   "cell_type": "markdown",
   "metadata": {},
   "source": [
    "Reading input files\n",
    "===================\n",
    "\n",
    "To calculate biodiversity indices of protected and endangered species\n",
    "that are characteristic of the fluvial environment, this notebook\n",
    "applies the Spreadsheet Application For Evaluation of BIOdiversity\n",
    "(BIOSAFE) model (see e.g. [de Nooij et al.,\n",
    "2003](https://doi.org/10.1002/rra.779)). The original spreadsheet file\n",
    "in an excel format is provided in the following location. We adopt the\n",
    "excel file to this notebook."
   ]
  },
  {
   "cell_type": "code",
   "execution_count": null,
   "metadata": {},
   "outputs": [],
   "source": [
    "# the original excel file\n",
    "excelFile = os.path.join(output_folder, 'BIOSAFE_20150629.xlsx')\n",
    "msg = \"The original excel file is given on {}\".format(excelFile)\n",
    "print(msg)"
   ]
  },
  {
   "cell_type": "markdown",
   "metadata": {},
   "source": [
    "We adopt the spreadsheet/excel file to this notebook.\n",
    "\n",
    "The first input to the spreadsheet is a matrix **legalWeights**\n",
    "(Legislative Weights) of user-specified weights for 16 different policy\n",
    "and legislative documents. The 16 legal documents considered are the\n",
    "most recent versions of: Dutch Red List species that are based on the\n",
    "criteria of the International Union for Conservation of Nature (IUCN),\n",
    "Dutch Flora and Fauna Act, EU Habitat Directive, EU Birds Directive,\n",
    "Bern Convention, and Bonn Convention. We assumed equal weights,\n",
    "attributing equal value to the protection by each of the legal and\n",
    "policy documents.\n",
    "\n",
    "Please execute the following cells to load and visualize the\n",
    "**legalWeights** used in this study."
   ]
  },
  {
   "cell_type": "code",
   "execution_count": null,
   "metadata": {},
   "outputs": [],
   "source": [
    "legalWeights = pd.read_csv(os.path.join(output_folder, 'legalWeights.csv'), index_col = 0)"
   ]
  },
  {
   "cell_type": "code",
   "execution_count": null,
   "metadata": {},
   "outputs": [],
   "source": [
    "bsIO.show_full_data_frame(legalWeights)"
   ]
  },
  {
   "cell_type": "markdown",
   "metadata": {},
   "source": [
    "The second input is **linksLaw** (Legal Links), which is a relational\n",
    "matrix that links species(s) along the rows to the relevant policy and\n",
    "legislative documents (**legalWeights**) along the columns. If a species\n",
    "is protected by or mentioned in a specific law, the corresponding cell\n",
    "in the matrix is given a value of one, else the cell is zero.\n",
    "\n",
    "Please execute the following cells to load and visualize the\n",
    "**linksLaw** used in this study."
   ]
  },
  {
   "cell_type": "code",
   "execution_count": null,
   "metadata": {},
   "outputs": [],
   "source": [
    "linksLaw = pd.read_csv(os.path.join(output_folder, 'linksLaw.csv'), index_col = 0)"
   ]
  },
  {
   "cell_type": "code",
   "execution_count": null,
   "metadata": {},
   "outputs": [],
   "source": [
    "# Note: This cell is for visualizing data only and may be heavy.\n",
    "# You may want to skip it or clear its output after executing it.\n",
    "# bsIO.show_full_data_frame(linksLaw)"
   ]
  },
  {
   "cell_type": "markdown",
   "metadata": {},
   "source": [
    "The third input is **linksEco** (Ecotope Links), which is the relational\n",
    "matrix between species and ecotopes. The matrix is based on expert\n",
    "ecological judgement of species and their hydromorphological and\n",
    "vegetation habitat needs in different life stages.\n",
    "\n",
    "Please execute the following cells to load and visualize the\n",
    "**linksEco** used in this study."
   ]
  },
  {
   "cell_type": "code",
   "execution_count": null,
   "metadata": {},
   "outputs": [],
   "source": [
    "linksEco = pd.read_csv(os.path.join(output_folder, 'linksEco.csv'), index_col = 0)"
   ]
  },
  {
   "cell_type": "code",
   "execution_count": null,
   "metadata": {},
   "outputs": [],
   "source": [
    "# Note: This cell is for visualizing data only and may be heavy.\n",
    "# You may want to skip it or clear its output after executing it.\n",
    "# bsIO.show_full_data_frame(linksEco)"
   ]
  },
  {
   "cell_type": "markdown",
   "metadata": {},
   "source": [
    "The column titles in linksEco represent the ecotope classes used in this\n",
    "study. In addition to them, we introduce their merged/main classes based\n",
    "on the following relationship matrix **lut** that can be loaded and\n",
    "visualized by executing the following notebook cells."
   ]
  },
  {
   "cell_type": "code",
   "execution_count": null,
   "metadata": {},
   "outputs": [],
   "source": [
    "#~ # using excel file\n",
    "#~ excelFile = os.path.join(output_folder, 'BIOSAFE_20150629.xlsx')\n",
    "#~ lut = pd.read_excel(excelFile, sheet_name = 'lut_RWES').fillna(method='ffill')\n",
    "\n",
    "# using csv file\n",
    "csvFile = os.path.join(input_dir_source, 'lut_RWES.csv')\n",
    "lut = pd.read_csv(csvFile, index_col = 0)"
   ]
  },
  {
   "cell_type": "code",
   "execution_count": null,
   "metadata": {},
   "outputs": [],
   "source": [
    "# Note: This cell is for visualizing data only and may be heavy.\n",
    "# You may want to skip it or clear its output after executing it.\n",
    "# bsIO.show_full_data_frame(lut)"
   ]
  },
  {
   "cell_type": "markdown",
   "metadata": {},
   "source": [
    "In the matrix **lut**, the column oldEcotope represents the ecotope\n",
    "classes given along the top rows of linksEco, while the classes in the\n",
    "column newEcotope are their merged ecotope classes. Based on **lut**\n",
    "(relation between oldEcotope and newEcotope) and by running the\n",
    "following notebook cells, we can derive and visualize the Ecotope Links\n",
    "**linksNewEcoAgg**, consisting oldEcotope and newEcotope."
   ]
  },
  {
   "cell_type": "code",
   "execution_count": null,
   "metadata": {},
   "outputs": [],
   "source": [
    "linksNewEcoAgg = biosafe.aggregateEcotopes(linksEco, lut)"
   ]
  },
  {
   "cell_type": "code",
   "execution_count": null,
   "metadata": {},
   "outputs": [],
   "source": [
    "# Note: This cell is for visualizing data only and may be heavy.\n",
    "# You may want to skip it or clear its output after executing it.\n",
    "# bsIO.show_full_data_frame(linksNewEcoAgg)"
   ]
  },
  {
   "cell_type": "code",
   "execution_count": null,
   "metadata": {},
   "outputs": [],
   "source": [
    "print(linksEco.shape)\n",
    "print(linksNewEcoAgg.shape)"
   ]
  },
  {
   "cell_type": "markdown",
   "metadata": {},
   "source": [
    "Understanding/testing BIOSAFE in a simple instance (non-spatial mode)\n",
    "=====================================================================\n",
    "\n",
    "To understand the BIOSAFE model, we introduce the following exercise\n",
    "running the BIOSAFE model in a simple single instance, without relevant\n",
    "spatial information.\n",
    "\n",
    "For this exercise, we randomly draw the presence of each species by\n",
    "running the following cells. The assumption drawn is given in the table,\n",
    "particularly in the column **speciesPresence**, with the values 0 and 1\n",
    "indicating absent and present."
   ]
  },
  {
   "cell_type": "code",
   "execution_count": null,
   "metadata": {},
   "outputs": [],
   "source": [
    "speciesPresence = pd.DataFrame(np.random.randint(2, size=len(linksLaw)),\\\n",
    "                    columns=['speciesPresence'], \\\n",
    "                    index=linksLaw.index)\n",
    "speciesPresenceFull = speciesPresence"
   ]
  },
  {
   "cell_type": "code",
   "execution_count": null,
   "metadata": {},
   "outputs": [],
   "source": [
    "# Note: This cell is for visualizing data only and may be heavy.\n",
    "# You may want to skip it or clear its output after executing it.\n",
    "# bsIO.show_full_data_frame(speciesPresence)"
   ]
  },
  {
   "cell_type": "markdown",
   "metadata": {},
   "source": [
    "For this exercise, we simplify all areas of ecotope classes\n",
    "(**ecotopeArea**) equal to 1e5 m2. This is done by running the following\n",
    "cell."
   ]
  },
  {
   "cell_type": "code",
   "execution_count": null,
   "metadata": {},
   "outputs": [],
   "source": [
    "ecotopeArea = pd.DataFrame(np.ones(len(linksNewEcoAgg.columns)-1) * 1e5,\\\n",
    "                           columns = ['area_m2'],\\\n",
    "                           index = linksNewEcoAgg.columns.values[0:-1])"
   ]
  },
  {
   "cell_type": "code",
   "execution_count": null,
   "metadata": {},
   "outputs": [],
   "source": [
    "# Note: This cell is for visualizing data only and may be heavy.\n",
    "# You may want to skip it or clear its output after executing it.\n",
    "# bsIO.show_full_data_frame(ecotopeArea)"
   ]
  },
  {
   "cell_type": "markdown",
   "metadata": {},
   "source": [
    "Running the BIOSAFE in a simple single instance (non-spatial mode)\n",
    "==================================================================\n",
    "\n",
    "Given the inputs **legalWeights**, **linksLaw** and **linksNewEcoAgg**,\n",
    "as well as the assumptions **speciesPresence** and **ecotopeArea**\n",
    "defined above, the BIOSAFE model is initiated by running the following\n",
    "cell."
   ]
  },
  {
   "cell_type": "code",
   "execution_count": null,
   "metadata": {},
   "outputs": [],
   "source": [
    "bs = biosafe.biosafe(legalWeights, linksLaw, linksNewEcoAgg, speciesPresence, ecotopeArea)"
   ]
  },
  {
   "cell_type": "markdown",
   "metadata": {},
   "source": [
    "Then, we can calculate all BIOSAFE scores (potential and actual ones)."
   ]
  },
  {
   "cell_type": "code",
   "execution_count": null,
   "metadata": {},
   "outputs": [],
   "source": [
    "SScoresSpecies = bs.SScoresSpecies()\n",
    "summarySScores = bs.taxGroupSums()\n",
    "SEcoPot = bs.SEcoPot()\n",
    "SEcoAct = bs.SEcoAct()\n",
    "PTE = bs.PTE()\n",
    "ATE = bs.ATE()\n",
    "TES = bs.TES()\n",
    "TEI = bs.TEI()\n",
    "ATEI = bs.ATEI()\n",
    "TFI = bs.TFI()\n",
    "FI = bs.FI()\n",
    "ATFI = bs.ATFI()\n",
    "AFI = bs.AFI()\n",
    "FIS = bs.FIS()\n",
    "TFIS = bs.TFIS()\n",
    "TFHS = bs.TFHS()\n",
    "FTEI = bs.FTEI()"
   ]
  },
  {
   "cell_type": "markdown",
   "metadata": {},
   "source": [
    "Exploring the BIOSAFE scores/indices\n",
    "====================================\n",
    "\n",
    "After running the BIOSAFE model, we would explore the BIOSAFE\n",
    "scores/indices by running the following cells. Note that we distinguish\n",
    "between **potential** biodiversity indices, which depend on ecotope\n",
    "presence only, and **actual** biodiversity indices, which combine\n",
    "ecotope and species presences. To understand the description of each\n",
    "score, we refer to the [supplementary\n",
    "material](http://advances.sciencemag.org/cgi/content/full/3/11/e1602762/DC1)\n",
    "of [Straatsma et\n",
    "al. (2017)](https://advances.sciencemag.org/content/3/11/e1602762) that\n",
    "provides all equations to calculate these scores. Figure S1 in the\n",
    "[supplementary\n",
    "material](http://advances.sciencemag.org/cgi/content/full/3/11/e1602762/DC1)\n",
    "shows the flow chart of the BIOSAFE methodology, while a graphical\n",
    "illustration of BIOSAFE score computation is given in Figure S2.\n",
    "\n",
    "Note that during this exploration, you may want to skip some cells for\n",
    "visualizing some values in data frames or clear their outputs after\n",
    "executing them, particularly if they involve large data frames.\n",
    "\n",
    "We start this exploration with **SScoresSpecies** that consists of the\n",
    "calculated potential and actual species scores, **Spotential** and\n",
    "**Sactual** (PSS and ASS in the paper). For each species, their\n",
    "calculated values are given as follows."
   ]
  },
  {
   "cell_type": "code",
   "execution_count": null,
   "metadata": {},
   "outputs": [],
   "source": [
    "# Note: This cell is for visualizing data only and may be heavy.\n",
    "# You may want to skip it or clear its output after executing it.\n",
    "# bsIO.show_full_data_frame(SScoresSpecies)"
   ]
  },
  {
   "cell_type": "markdown",
   "metadata": {},
   "source": [
    "Based on SPotential and SActual, the potential and actual taxonomic\n",
    "group scores, **PTB** and **ATB**, can be calculated for each taxonomic\n",
    "group as follows. In addition, the taxonomic group biodiversity,\n",
    "**TBS**, saturation can also be calculated."
   ]
  },
  {
   "cell_type": "code",
   "execution_count": null,
   "metadata": {},
   "outputs": [],
   "source": [
    "bsIO.show_full_data_frame(summarySScores)"
   ]
  },
  {
   "cell_type": "markdown",
   "metadata": {},
   "source": [
    "For each ecotope class, we can also compute the potential and actual\n",
    "species specific scores for each ecotope. Their values for each species\n",
    "and ecotope areas are given in the following two cells, the first one\n",
    "shows their potential scores, **SEcoPot**, while the latter contains\n",
    "their actual scores, **SEcoAct**."
   ]
  },
  {
   "cell_type": "code",
   "execution_count": null,
   "metadata": {},
   "outputs": [],
   "source": [
    "# Note: This cell is for visualizing data only and may be heavy.\n",
    "# You may want to skip it or clear its output after executing it.\n",
    "# bsIO.show_full_data_frame(SEcoPot)"
   ]
  },
  {
   "cell_type": "code",
   "execution_count": null,
   "metadata": {},
   "outputs": [],
   "source": [
    "# Note: This cell is for visualizing data only and may be heavy.\n",
    "# You may want to skip it or clear its output after executing it.\n",
    "# bsIO.show_full_data_frame(SEcoAct)"
   ]
  },
  {
   "cell_type": "markdown",
   "metadata": {},
   "source": [
    "For each taxonomic group and for each ecotope class, the sum of SEcoPot\n",
    "can be calculated as **PTE**, potential taxonomic group ecotope\n",
    "constant."
   ]
  },
  {
   "cell_type": "code",
   "execution_count": null,
   "metadata": {},
   "outputs": [],
   "source": [
    "# Note: This cell is for visualizing data only and may be heavy.\n",
    "# You may want to skip it or clear its output after executing it.\n",
    "bsIO.show_full_data_frame(PTE)"
   ]
  },
  {
   "cell_type": "markdown",
   "metadata": {},
   "source": [
    "For each taxonomic group and for each ecotope class, the sum of SEcoAct\n",
    "can be calculated as **ATE**, actual taxonomic group ecotope constant."
   ]
  },
  {
   "cell_type": "code",
   "execution_count": null,
   "metadata": {},
   "outputs": [],
   "source": [
    "# Note: This cell is for visualizing data only and may be heavy.\n",
    "# You may want to skip it or clear its output after executing it.\n",
    "bsIO.show_full_data_frame(ATE)"
   ]
  },
  {
   "cell_type": "markdown",
   "metadata": {},
   "source": [
    "Based on ATE and PTE, we can calculate **TES**, taxonomic group ecotope\n",
    "saturation index, for each taxonomic group and ecotope area."
   ]
  },
  {
   "cell_type": "code",
   "execution_count": null,
   "metadata": {},
   "outputs": [],
   "source": [
    "bsIO.show_full_data_frame(TES)"
   ]
  },
  {
   "cell_type": "markdown",
   "metadata": {},
   "source": [
    "Based on PTB and PTE, we can calculate **TEI**, taxonomic group ecotope\n",
    "importance constant, for each taxonomic group and ecotope area."
   ]
  },
  {
   "cell_type": "code",
   "execution_count": null,
   "metadata": {},
   "outputs": [],
   "source": [
    "bsIO.show_full_data_frame(TEI)"
   ]
  },
  {
   "cell_type": "markdown",
   "metadata": {},
   "source": [
    "Based on TEI and TES, we can calculate **ATEI** (ATE in the paper),\n",
    "actual taxonomic group ecotope constant, for each taxonomic group and\n",
    "ecotope area."
   ]
  },
  {
   "cell_type": "code",
   "execution_count": null,
   "metadata": {},
   "outputs": [],
   "source": [
    "bsIO.show_full_data_frame(ATEI)"
   ]
  },
  {
   "cell_type": "markdown",
   "metadata": {},
   "source": [
    "Based on the ecotopeArea assumed above and TEI, the potential taxonomic\n",
    "group flood plain importance score, **TFI** (PotTax in the paper), can\n",
    "be calculated as follows."
   ]
  },
  {
   "cell_type": "code",
   "execution_count": null,
   "metadata": {},
   "outputs": [],
   "source": [
    "bsIO.show_full_data_frame(TFI)"
   ]
  },
  {
   "cell_type": "markdown",
   "metadata": {},
   "source": [
    "The sum of TFI is reported as **FI** (PotAll in the paper), the\n",
    "potential floodplain importance score."
   ]
  },
  {
   "cell_type": "code",
   "execution_count": null,
   "metadata": {},
   "outputs": [],
   "source": [
    "bsIO.show_full_data_frame(FI)"
   ]
  },
  {
   "cell_type": "markdown",
   "metadata": {},
   "source": [
    "Based on the ecotopeArea assumed above and ATEI, the actual taxonomic\n",
    "group flood plain importance score, **ATFI** (ActTax in the paper), can\n",
    "be calculated as follows."
   ]
  },
  {
   "cell_type": "code",
   "execution_count": null,
   "metadata": {},
   "outputs": [],
   "source": [
    "bsIO.show_full_data_frame(ATFI)"
   ]
  },
  {
   "cell_type": "markdown",
   "metadata": {},
   "source": [
    "The sum of ATFI is reported as the actual floodplain importance score,\n",
    "**AFI** (ActAll in the paper)."
   ]
  },
  {
   "cell_type": "code",
   "execution_count": null,
   "metadata": {},
   "outputs": [],
   "source": [
    "bsIO.show_full_data_frame(AFI)"
   ]
  },
  {
   "cell_type": "markdown",
   "metadata": {},
   "source": [
    "Based on AFI and FI, we can calculated the floodplain importance\n",
    "saturation, **FIS** (SatAll in the paper), as follows."
   ]
  },
  {
   "cell_type": "code",
   "execution_count": null,
   "metadata": {},
   "outputs": [],
   "source": [
    "bsIO.show_full_data_frame(FIS)"
   ]
  },
  {
   "cell_type": "markdown",
   "metadata": {},
   "source": [
    "For each taxonomic group, the taxonomic group floodplain importance\n",
    "saturation, **TFIS** (SatTax in the paper), can be calculated based on\n",
    "ATFI and FIS. TFIS describes the fraction/saturation of actual over\n",
    "potential biodiversity."
   ]
  },
  {
   "cell_type": "code",
   "execution_count": null,
   "metadata": {},
   "outputs": [],
   "source": [
    "bsIO.show_full_data_frame(TFIS)"
   ]
  },
  {
   "cell_type": "markdown",
   "metadata": {},
   "source": [
    "Based on TEI and ecotopeArea, we can calculate **TFHS** (HabDiv in the\n",
    "paper), the taxonomic group floodplain habitat saturation, which\n",
    "describes the fraction of suitable ecotopes, weighed by law, for each\n",
    "taxonomic group."
   ]
  },
  {
   "cell_type": "code",
   "execution_count": null,
   "metadata": {},
   "outputs": [],
   "source": [
    "bsIO.show_full_data_frame(TFHS)"
   ]
  },
  {
   "cell_type": "code",
   "execution_count": null,
   "metadata": {},
   "outputs": [],
   "source": [
    "# bsIO.show_full_data_frame(FTEI)\n",
    "# FTEI is not found in the paper.\n",
    "# FTEI: Floodplain Taxonomic group Ecotope Importance"
   ]
  },
  {
   "cell_type": "markdown",
   "metadata": {},
   "source": [
    "Running the BIOSAFE in a spatial mode\n",
    "=====================================\n",
    "\n",
    "In the following cells, we will demonstrate the BIOSAFE model in a\n",
    "spatial model. The BIOSAFE model will be fed by spatial data,\n",
    "particularly on ecotope distribution and species monitoring data.\n",
    "\n",
    "We assume the following floodplain section map **flpl\\_sections**, which\n",
    "would be loaded and vizualized by executing the following notebook\n",
    "cells."
   ]
  },
  {
   "cell_type": "code",
   "execution_count": null,
   "metadata": {},
   "outputs": [],
   "source": [
    "flpl_sections_f = os.path.join(output_folder, 'flpl_sections.map')\n",
    "flpl_sections = pcr.readmap(flpl_sections_f)"
   ]
  },
  {
   "cell_type": "code",
   "execution_count": null,
   "metadata": {},
   "outputs": [],
   "source": [
    "plot(flpl_sections)"
   ]
  },
  {
   "cell_type": "markdown",
   "metadata": {},
   "source": [
    "The following ecotope map **ecotopes** would be assumed."
   ]
  },
  {
   "cell_type": "code",
   "execution_count": null,
   "metadata": {},
   "outputs": [],
   "source": [
    "ecotopes = biosafe.read_map_with_legend(os.path.join(output_folder, 'ecotopes.map'))"
   ]
  },
  {
   "cell_type": "code",
   "execution_count": null,
   "metadata": {},
   "outputs": [],
   "source": [
    "#~ # plot the ecotope map (not needed)\n",
    "#~ plot(ecotopes.pcr_map)"
   ]
  },
  {
   "cell_type": "markdown",
   "metadata": {},
   "source": [
    "For the input related to species monitoring data, the following data\n",
    "frame of **ndff\\_species** is used (i.e. related to species presence and\n",
    "characteristics)."
   ]
  },
  {
   "cell_type": "code",
   "execution_count": null,
   "metadata": {},
   "outputs": [],
   "source": [
    "ndff_species = pd.read_pickle(os.path.join(output_folder, 'ndff_sub_BS_13.pkl'))"
   ]
  },
  {
   "cell_type": "code",
   "execution_count": null,
   "metadata": {},
   "outputs": [],
   "source": [
    "# Note: This cell is for visualizing data only and may be heavy.\n",
    "# You may want to skip it or clear its output after executing it.\n",
    "# ndff_species.shape\n",
    "# bsIO.show_full_data_frame(ndff_species)"
   ]
  },
  {
   "cell_type": "markdown",
   "metadata": {},
   "source": [
    "Given the inputs defined above, we can initiate the BIOSAFE model in a\n",
    "spatial model by running the following cell. Note that the inputs of\n",
    "**speciesPresence** and **ecotopoArea** are calculated based on the\n",
    "aformentioned inputs of **ndff\\_species**, **ecotopes**, and\n",
    "**flpl\\_sections**. For this example, we would calculate the scores\n",
    "**FI** and **TFI**."
   ]
  },
  {
   "cell_type": "code",
   "execution_count": null,
   "metadata": {},
   "outputs": [],
   "source": [
    "bs_spatial = biosafe.spatialBiosafe(bs, ecotopes, flpl_sections, ndff_species,\n",
    "                            params = ['FI', 'TFI'],\n",
    "                            toFiles = None)\n",
    "FI, TFI = bs_spatial.spatial()"
   ]
  },
  {
   "cell_type": "markdown",
   "metadata": {},
   "source": [
    "The calculated TFI values are given as follows, for each taxonomic group\n",
    "and for each floodplain section."
   ]
  },
  {
   "cell_type": "code",
   "execution_count": null,
   "metadata": {},
   "outputs": [],
   "source": [
    "bsIO.show_full_data_frame(TFI)"
   ]
  },
  {
   "cell_type": "markdown",
   "metadata": {},
   "source": [
    "Then, for each flood plain section, the calculated FI value is given as\n",
    "follows."
   ]
  },
  {
   "cell_type": "code",
   "execution_count": null,
   "metadata": {},
   "outputs": [],
   "source": [
    "bsIO.show_full_data_frame(FI)"
   ]
  },
  {
   "cell_type": "markdown",
   "metadata": {},
   "source": [
    "Assessing biodiversity change, before and after measure\n",
    "=======================================================\n",
    "\n",
    "The exercise in the following cells is an exercise to access such a\n",
    "floodplain measure to biodiversity change.\n",
    "\n",
    "We assume such a measure is implemented in the following ecotope map\n",
    "**msr\\_eco**."
   ]
  },
  {
   "cell_type": "code",
   "execution_count": null,
   "metadata": {},
   "outputs": [],
   "source": [
    "msr_eco = biosafe.read_map_with_legend(os.path.join(output_folder, 'ecotopes_msr.map'))"
   ]
  },
  {
   "cell_type": "code",
   "execution_count": null,
   "metadata": {},
   "outputs": [],
   "source": [
    "#~ # plot the ecotope map (not needed)\n",
    "#~ plot(msr_eco.pcr_map)"
   ]
  },
  {
   "cell_type": "markdown",
   "metadata": {},
   "source": [
    "Note that this measure is only implemented in some parts of the model\n",
    "area (not for all floodplain IDs). Its reference/existing condition\n",
    "(before the measure), which is taken from them map **ecotopes** map, is\n",
    "given as **ref\\_eco**."
   ]
  },
  {
   "cell_type": "code",
   "execution_count": null,
   "metadata": {},
   "outputs": [],
   "source": [
    "msr_area = pcr.defined(msr_eco.pcr_map)\n",
    "sections = pcr.ifthen(msr_area, pcr.nominal(1))\n",
    "ref_eco = biosafe.LegendMap(pcr.ifthen(msr_area, ecotopes.pcr_map), msr_eco.legend_df)"
   ]
  },
  {
   "cell_type": "markdown",
   "metadata": {},
   "source": [
    "The flood plain sections where the measure is implemented are\n",
    "illustrated below. We will evaluate biodiversity change within this\n",
    "area."
   ]
  },
  {
   "cell_type": "code",
   "execution_count": null,
   "metadata": {},
   "outputs": [],
   "source": [
    "plot(sections)"
   ]
  },
  {
   "cell_type": "code",
   "execution_count": null,
   "metadata": {},
   "outputs": [],
   "source": [
    "#~ # plot the ecotope map (not needed)\n",
    "#~ plot(ref_eco.pcr_map)"
   ]
  },
  {
   "cell_type": "markdown",
   "metadata": {},
   "source": [
    "Biodiversity before the measure\n",
    "-------------------------------\n",
    "\n",
    "The BIOSAFE model for the reference/existing condition is calculated as\n",
    "follows. For this exercise, we just calculate the scores **FI** and\n",
    "**TFI** (with the subscript **ref** indicating the reference condition,\n",
    "before the measure)."
   ]
  },
  {
   "cell_type": "code",
   "execution_count": null,
   "metadata": {},
   "outputs": [],
   "source": [
    "bs_ref = biosafe.spatialBiosafe(bs, ref_eco, sections, ndff_species,\n",
    "                        params = ['FI', 'TFI'], toFiles = None)\n",
    "FI_ref, TFI_ref = bs_ref.spatial()"
   ]
  },
  {
   "cell_type": "markdown",
   "metadata": {},
   "source": [
    "Biodiversity after the measure\n",
    "------------------------------\n",
    "\n",
    "The BIOSAFE model for the measure condition is calculated as follows. We\n",
    "also calculate the scores **FI** and **TFI** (with the subscript **msr**\n",
    "indicating the condition after the measure)."
   ]
  },
  {
   "cell_type": "code",
   "execution_count": null,
   "metadata": {},
   "outputs": [],
   "source": [
    "bs_msr = biosafe.spatialBiosafe(bs, msr_eco, sections, ndff_species,\n",
    "                        params = ['FI', 'TFI'], toFiles = None)\n",
    "FI_msr, TFI_msr = bs_msr.spatial()"
   ]
  },
  {
   "cell_type": "markdown",
   "metadata": {},
   "source": [
    "Evaluating biodiversity change\n",
    "------------------------------\n",
    "\n",
    "After implemeting the BIOSAFE model for the before and after measures,\n",
    "**bs\\_ref** and **bs\\_msr**, we can compare their scores.\n",
    "\n",
    "We can compare and plot the **TFI** scores, before and after the\n",
    "measure."
   ]
  },
  {
   "cell_type": "code",
   "execution_count": null,
   "metadata": {},
   "outputs": [],
   "source": [
    "#%% activating matplotlib visualization\n",
    "%matplotlib notebook"
   ]
  },
  {
   "cell_type": "code",
   "execution_count": null,
   "metadata": {},
   "outputs": [],
   "source": [
    "sns.set_style(\"ticks\")\n",
    "# TFI_ref.drop(['xcoor', 'ycoor'], axis=1).plot.bar()\n",
    "# TFI_msr.drop(['xcoor', 'ycoor'], axis=1).plot.bar()\n",
    "\n",
    "comparison = pd.concat([TFI_ref, TFI_msr]).drop(['xcoor', 'ycoor'], axis=1)\n",
    "comparison.index = ['Reference', 'Measures']\n",
    "comparison.columns = [u'Birds', u'Butterflies', u'Dragon- and damselflies',\n",
    "                    u'Fish', u'Herpetofauna', u'Higher plants', u'Mammals']\n",
    "comparison.columns.name = 'Taxonomic group'\n",
    "\n",
    "comparison.plot.bar(rot=0)\n",
    "\n",
    "\n",
    "plt.savefig('comparison_biosafe_TFI.png', dpi=300)\n",
    "comparison.to_csv('comparison_biosafe_TFI.csv')"
   ]
  },
  {
   "cell_type": "markdown",
   "metadata": {},
   "source": [
    "We can also compare and plot the **FI** scores, before and after the\n",
    "measure, by running the following cells."
   ]
  },
  {
   "cell_type": "code",
   "execution_count": null,
   "metadata": {},
   "outputs": [],
   "source": [
    "sns.set_style(\"ticks\")\n",
    "# FI_ref.drop(['xcoor', 'ycoor'], axis=1).plot.bar()\n",
    "# FI_msr.drop(['xcoor', 'ycoor'], axis=1).plot.bar()\n",
    "\n",
    "comparison = pd.concat([FI_ref, FI_msr]).drop(['xcoor', 'ycoor'], axis=1)\n",
    "comparison.index = ['Reference', 'Measures']\n",
    "comparison.plot.bar(rot=0)\n",
    "\n",
    "plt.savefig('comparison_biosafe_FI.png', dpi=300)\n",
    "comparison.to_csv('comparison_biosafe_FI.csv')"
   ]
  },
  {
   "cell_type": "code",
   "execution_count": null,
   "metadata": {},
   "outputs": [],
   "source": []
  }
 ],
 "nbformat": 4,
 "nbformat_minor": 5,
 "metadata": {}
}

