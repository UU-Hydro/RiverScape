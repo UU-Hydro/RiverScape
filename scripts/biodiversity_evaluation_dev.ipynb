<h1 id="evaluating-the-biodiversity-changes">Evaluating the biodiversity changes</h1>
<h2 id="overview">Overview</h2>
<p>This notebook facilitates using the RiverScape Python package to evaluate the effects of RiverScape measures on biodivesity using the BIOSAFE model. If this is your first time running the notebook, we advise you to read its reference paper (<a href="https://advances.sciencemag.org/content/3/11/e1602762">Straatsma et al., 2017</a>, including its <a href="http://advances.sciencemag.org/cgi/content/full/3/11/e1602762/DC1">supplementary material</a>).</p>
<!--
``` code
# to display all output from a cell
from IPython.core.interactiveshell import InteractiveShell
InteractiveShell.ast_node_interactivity = "all"
# see: https://ipython.readthedocs.io/en/stable/config/options/terminal.html#configtrait-InteractiveShell.ast_node_interactivity
```-->

<h2 id="requirement-python-modulespackages">Requirement (Python modules/packages)</h2>
<p>To run this notebook, please import the following Python modules.</p>
<pre class="code"><code># import standard modules
import os
import shutil
import sys
import string
import subprocess
import time
import math
import pprint as pp

# import required modules/packages (which may require installation)
import numpy as np
import pandas as pd
import geopandas as gpd
import seaborn as sns

import matplotlib.pyplot as plt

import pcraster as pcr</code></pre>
<p>Please also make sure that this notebook file is in the same folder as the RiverScape Python module files that must be loaded. You can then import the RiverScape Python module by running the following cell.</p>
<pre class="code"><code>from riverscape import *
import geoviews
geoviews.extension(&#39;bokeh&#39;)</code></pre>
<h1 id="input-folder">Input folder</h1>
<p>The input folder is given in the following location.</p>
<pre class="code"><code># set the current directory as the root directory
try:
    if root_dir == None: root_dir = os.getcwd()
except:
    root_dir = os.getcwd()

# by default, the input folder is given in the following location that is relative to the root directory (the current directory)
github_input_dir_source = &quot;../input_files/input/bio/&quot;
input_dir_source = os.path.join(root_dir, github_input_dir_source)</code></pre>
<p>You may also want to set the input folder, interactively, by running the following cell.</p>
<pre class="code"><code># go to the above suggested &#39;input_dir_source&#39;
os.chdir(input_dir_source); input_dir_source = os.getcwd()

# open an interactive window
get_input_dir_source = &quot;&quot;
# get_input_dir_source = select_directory()
# - if cancel or not used, we use the above suggested &#39;input_dir_source&#39;
if get_input_dir_source == &quot;&quot; or get_input_dir_source == &quot;()&quot;: get_input_dir_source = input_dir_source

input_dir_source = get_input_dir_source</code></pre>
<pre class="code"><code>msg = &quot;The input folder is set on   : {}&quot;.format(input_dir_source)
print(msg)

# return to the root folder for further processes.
os.chdir(root_dir)</code></pre>
<h1 id="output-folder">Output folder</h1>
<p>Please set your output folder. Please adjust if necessary.</p>
<pre class="code"><code>output_folder = &quot;/scratch-shared/edwinhs/riverscape/biosafe_development/test_biosafe_5/&quot;</code></pre>
<p>You can also set the output folder, interactively, by running the following cell.</p>
<pre class="code"><code># open an interactive window
get_output_folder = &quot;&quot;
# get_output_folder = select_directory()
# - if cancel or not used, we use the above defined &#39;output_folder&#39;
if get_output_folder == () or get_output_folder == &quot;&quot;: get_output_folder = output_folder

output_folder = get_output_folder</code></pre>
<pre class="code"><code>msg = &quot;The output folder is set on   : {}&quot;.format(output_folder)
print(msg)</code></pre>
<p>The files in the input folder will be copied to the output folder. The output folder will also be set as the working directory. All plots would be saved in this directory.</p>
<pre class="code"><code>shutil.copytree(input_dir_source, output_folder)

# use the output folder as the working directory
os.chdir(output_folder)</code></pre>
<h1 id="reading-input-files">Reading input files</h1>
<p>To calculate biodiversity indices of protected and endangered species that are characteristic of the fluvial environment, this notebook applies the Spreadsheet Application For Evaluation of BIOdiversity (BIOSAFE) model (see e.g. <a href="https://doi.org/10.1002/rra.779">de Nooij et al., 2003</a>. The original spreadsheet file in an excel format is provided in the following location. We adopt the excel file to this notebook.</p>
<pre class="code"><code># the original excel file
excelFile = os.path.join(output_folder, &#39;BIOSAFE_20150629.xlsx&#39;)
msg = &quot;The original excel file is given on {}&quot;.format(excelFile)
print(msg)</code></pre>
<p>We adopt the spreadsheet/excel file to this notebook.</p>
<p>The first input to the spreadsheet is a matrix <strong>legalWeights</strong> (Legislative Weights) of user-specified weights for 16 different policy and legislative documents. The 16 legal documents considered are the most recent versions of: Dutch Red List species that are based on the criteria of the International Union for Conservation of Nature (IUCN), Dutch Flora and Fauna Act, EU Habitat Directive, EU Birds Directive, Bern Convention, and Bonn Convention. We assumed equal weights, attributing equal value to the protection by each of the legal and policy documents.</p>
<p>Please execute the following cells to load and visualize the <strong>legalWeights</strong> used in this study.</p>
<pre class="code"><code>legalWeights = pd.read_csv(os.path.join(output_folder, &#39;legalWeights.csv&#39;), index_col = 0)</code></pre>
<pre class="code"><code>bsIO.show_full_data_frame(legalWeights)</code></pre>
<p>The second input is <strong>linksLaw</strong> (Legal Links), which is a relational matrix that links species(s) along the rows to the relevant policy and legislative documents (<strong>legalWeights</strong>) along the columns. If a species is protected by or mentioned in a specific law, the corresponding cell in the matrix is given a value of one, else the cell is zero.</p>
<p>Please execute the following cells to load and visualize the <strong>linksLaw</strong> used in this study.</p>
<pre class="code"><code>linksLaw = pd.read_csv(os.path.join(output_folder, &#39;linksLaw.csv&#39;), index_col = 0)</code></pre>
<pre class="code"><code># Note: This cell is for visualizing data only and may be heavy.
# You may want to skip it or clear its output after executing it.
bsIO.show_full_data_frame(linksLaw)</code></pre>
<p>The third input is <strong>linksEco</strong> (Ecotope Links), which is the relational matrix between species and ecotopes. The matrix is based on expert ecological judgement of species and their hydromorphological and vegetation habitat needs in different life stages.</p>
<p>Please execute the following cells to load and visualize the <strong>linksEco</strong> used in this study.</p>
<pre class="code"><code>linksEco = pd.read_csv(os.path.join(output_folder, &#39;linksEco.csv&#39;), index_col = 0)</code></pre>
<pre class="code"><code># Note: This cell is for visualizing data only and may be heavy.
# You may want to skip it or clear its output after executing it.
bsIO.show_full_data_frame(linksEco)</code></pre>
<p>The column titles in linksEco represent the ecotope classes used in this study. In addition to them, we introduce their merged/main classes based on the following relationship matrix <strong>lut</strong> that can be loaded and visualized by executing the following notebook cells.</p>
<pre class="code"><code># # using excel file
# ~ excelFile = os.path.join(output_folder, &#39;BIOSAFE_20150629.xlsx&#39;)
# ~ lut = pd.read_excel(excelFile, sheet_name = &#39;lut_RWES&#39;).fillna(method=&#39;ffill&#39;)

# using csv file
csvFile = os.path.join(output_folder, &#39;lut_RWES.csv&#39;)
lut = pd.read_csv(csvFile, index_col = 0)</code></pre>
<pre class="code"><code>bsIO.show_full_data_frame(lut)</code></pre>
<p>In the matrix <strong>lut</strong>, the column oldEcotope represents the ecotope classes given along the top rows of linksEco, while the classes in the column newEcotope are their merged ecotope classes. Based on <strong>lut</strong> (relation between oldEcotope and newEcotope) and by running the following notebook cells, we can derive and visualize the Ecotope Links <strong>linksNewEcoAgg</strong>, consisting oldEcotope and newEcotope.</p>
<pre class="code"><code>linksNewEcoAgg = biosafe.aggregateEcotopes(linksEco, lut)</code></pre>
<pre class="code"><code># Note: This cell is for visualizing data only and may be heavy.
# You may want to skip it or clear its output after executing it.
bsIO.show_full_data_frame(linksNewEcoAgg)</code></pre>
<pre class="code"><code>print(linksEco.shape)
print(linksNewEcoAgg.shape)</code></pre>
<h1 id="understandingtesting-biosafe-in-a-simple-single-instance-non-spatial-mode">Understanding/testing BIOSAFE in a simple single instance (non-spatial mode)</h1>
<p>To understand the BIOSAFE model, we introduce the following exercise running the BIOSAFE model in a simple single instance.</p>
<p>For this exercise, we randomly draw the presence of each species by running the following cells. The assumption drawn is given in the table, particularly in the column <strong>speciesPresence</strong>, with the values 0 and 1 indicating absent and present.</p>
<pre class="code"><code>speciesPresence = pd.DataFrame(np.random.randint(2, size=len(linksLaw)),\
                    columns=[&#39;speciesPresence&#39;], \
                    index=linksLaw.index)</code></pre>
<pre class="code"><code># Note: This cell is for visualizing data only and may be heavy.
# You may want to skip it or clear its output after executing it.
bsIO.show_full_data_frame(speciesPresence)</code></pre>
<pre class="code"><code># TODO: Menno may want to reduce a number of species.</code></pre>
<p>For this exercise, we simplify all areas of ecotope classes (<strong>ecotopeArea</strong>) equal to 1e5 m2. This is done by running the following cell.</p>
<pre class="code"><code>ecotopeArea = pd.DataFrame(np.ones(len(linksNewEcoAgg.columns)-1) * 1e5,\
                           columns = [&#39;area_m2&#39;],\
                           index = linksNewEcoAgg.columns.values[0:-1])</code></pre>
<pre class="code"><code># Note: This cell is for visualizing data only and may be heavy.
# You may want to skip it or clear its output after executing it.
bsIO.show_full_data_frame(ecotopeArea)</code></pre>
<h1 id="running-the-biosafe-in-a-simple-single-instance-non-spatial-mode">Running the BIOSAFE in a simple single instance (non-spatial mode)</h1>
<p>Given the inputs <strong>legalWeights</strong>, <strong>linksLaw</strong> and <strong>linksNewEcoAgg</strong>, as well as the assumptions <strong>speciesPresence</strong> and <strong>ecotopeArea</strong> defined above, the BIOSAFE model is initiated by running the following cell.</p>
<pre class="code"><code>bs = biosafe.biosafe(legalWeights, linksLaw, linksNewEcoAgg, speciesPresence, ecotopeArea)</code></pre>
<p>Then, we can calculate all BIOSAFE scores (potential and actual ones).</p>
<pre class="code"><code>SScoresSpecies = bs.SScoresSpecies()
summarySScores = bs.taxGroupSums()
SEcoPot = bs.SEcoPot()
SEcoAct = bs.SEcoAct()
PTE = bs.PTE()
ATE = bs.ATE()
TES = bs.TES()
TEI = bs.TEI()
ATEI = bs.ATEI()
TFI = bs.TFI()
FI = bs.FI()
ATFI = bs.ATFI()
AFI = bs.AFI()
FIS = bs.FIS()
TFIS = bs.TFIS()
TFHS = bs.TFHS()
FTEI = bs.FTEI()</code></pre>
<p>For each species, the calculated potential and actual species scores, Spotential and Sactual (PSS and ASS in the paper), are given as follows.</p>
<pre class="code"><code># Note: This cell is for visualizing data only and may be heavy.
# You may want to skip it or clear its output after executing it.
bsIO.show_full_data_frame(SScoresSpecies)</code></pre>
<p>For each taxonomic group, the potential and actual taxonomic group scores, PTB and ATB, can be calculated as follows. In addition, the taxonomic group biodiversity, TBS, saturation can also be calculated.</p>
<pre class="code"><code>bsIO.show_full_data_frame(summarySScores)</code></pre>
<p>For each ecotope class, we can also compute the potentil and actual species specific S scores for each ecotope. Their values for each species and ecotope areas are given in the following two cells, the first one shows their potential scores, SEcoPot, while the latter contains their actual scores, SEcoAct.</p>
<pre class="code"><code># Note: This cell is for visualizing data only and may be heavy.
# You may want to skip it or clear its output after executing it.
bsIO.show_full_data_frame(SEcoPot)</code></pre>
<pre class="code"><code># Note: This cell is for visualizing data only and may be heavy.
# You may want to skip it or clear its output after executing it.
bsIO.show_full_data_frame(SEcoAct)</code></pre>
<p>For each taxonomic group and for each ecotope class, the sum of SEcoPot can be calculated as PTE, potential taxonomic group ecotope constant.</p>
<pre class="code"><code># Note: This cell is for visualizing data only and may be heavy.
# You may want to skip it or clear its output after executing it.
bsIO.show_full_data_frame(PTE)</code></pre>
<p>For each taxonomic group and for each ecotope class, the sum of SEcoAct can be calculated as ATE, actual taxonomic group ecotope constant.</p>
<pre class="code"><code># Note: This cell is for visualizing data only and may be heavy.
# You may want to skip it or clear its output after executing it.
bsIO.show_full_data_frame(ATE)</code></pre>
<p>Based on ATE and PTE, we can calculate TES, taxonomic group ecotope saturation index, for each taxonomic group and ecotope area.</p>
<pre class="code"><code>bsIO.show_full_data_frame(TES)</code></pre>
<p>Based on PTB and PTE, we can calculate TEI, taxonomic group ecotope importance constant, for each taxonomic group and ecotope area.</p>
<pre class="code"><code>bsIO.show_full_data_frame(TEI)</code></pre>
<p>Based on TEI and TES, we can calculate ATEI (ATE in the paper), actual taxonomic group ecotope constant, for each taxonomic group and ecotope area.</p>
<pre class="code"><code>bsIO.show_full_data_frame(ATEI)</code></pre>
<p>Based on the ecotopeArea assumed above and TEI, the potential taxonomic group flood plain importance score, TFI (PotTax in the paper), can be calculated as follows.</p>
<pre class="code"><code>bsIO.show_full_data_frame(TFI)</code></pre>
<p>The sum of TFI is reported as FI (PotAll), the potential floodplain importance score.</p>
<pre class="code"><code>bsIO.show_full_data_frame(FI)</code></pre>
<p>Based on the ecotopeArea assumed above and ATEI, the actual taxonomic group flood plain importance score, ATFI (ActTax in the paper), can be calculated as follows.</p>
<pre class="code"><code>bsIO.show_full_data_frame(ATFI)</code></pre>
<p>The sum of ATFI is reported as AFI (ActAll), the actual floodplain importance score.</p>
<pre class="code"><code>bsIO.show_full_data_frame(AFI)</code></pre>
<p>Based on AFI and FI, the floodplain importance saturation, FIS (SatAll in the paper), can be calculated as follows.</p>
<pre class="code"><code>bsIO.show_full_data_frame(FIS)</code></pre>
<p>For each taxonomic group, the taxonomic group floodplain importance saturation, TFIS (SatTax in the paper), can be calculated based on ATFI and FIS. TFIS describes the fraction/saturation of actual over potential biodiversity.</p>
<pre class="code"><code>bsIO.show_full_data_frame(TFIS)</code></pre>
<p>Based on TEI and ecotopeArea, we can calculate TFHS (HabDiv in the paper), the taxonomic group floodplain habitat saturation, which describes the fraction of suitable ecotopes, weighed by law, for each taxonomic group.</p>
<pre class="code"><code>bsIO.show_full_data_frame(TFHS)</code></pre>
<pre class="code"><code># bsIO.show_full_data_frame(FTEI)
# FTEI is not found in the paper.
# FTEI: Floodplain Taxonomic group Ecotope Importance</code></pre>
<h1 id="running-the-biosafe-in-a-spatial-mode">Running the BIOSAFE in a spatial mode</h1>
<p>In the following cells, we will demonstrate the BIOSAFE model in a spatial model.</p>
<p>We assume the following inputs of floodplain section map, <strong>flpl_sections</strong>, and ecotope map, <strong>ecotopes</strong>.</p>
<pre class="code"><code>flpl_sections_f = os.path.join(output_folder, &#39;flpl_sections.map&#39;)
pcr.setclone(flpl_sections_f)
flpl_sections = pcr.readmap(flpl_sections_f)</code></pre>
<pre class="code"><code>plot(flpl_sections)</code></pre>
<pre class="code"><code>ecotopes = biosafe.read_map_with_legend(os.path.join(output_folder, &#39;ecotopes.map&#39;))</code></pre>
<pre class="code"><code># # Plot the ecotope map (not needed)
# ~ plot(ecotopes.pcr_map)</code></pre>
<p>The species presence and characteristics are given in the following database ndff_species.</p>
<pre class="code"><code>ndff_species = pd.read_pickle(os.path.join(output_folder, &#39;ndff_sub_BS_13.pkl&#39;))</code></pre>
<pre class="code"><code># Note: This cell is for visualizing data only and may be heavy.
# You may want to skip it or clear its output after executing it.
# ndff_species.shape
# bsIO.show_full_data_frame(ndff_species)</code></pre>
<p>Given the inputs defined above, we can initiate the BIOSAFE model in a spatial model by running the following cell. Note that the inputs of speciesPresence and ecotopoArea are calculated based on ndff_species and flpl_sections (i.e. the aforementioned speciesPresence and ecotopoArea values are overwritten). For this example, we calculate the parameters FI and TFI.</p>
<pre class="code"><code>bs_spatial = biosafe.spatialBiosafe(bs, ecotopes, flpl_sections, ndff_species,
                            params = [&#39;FI&#39;, &#39;TFI&#39;],
                            toFiles = None)
FI, TFI = bs_spatial.spatial()</code></pre>
<p>The calculated FI values for all floodplain IDs are given as follows.</p>
<pre class="code"><code>bsIO.show_full_data_frame(FI)</code></pre>
<p>The calculated TFI values are given as follows (for each taxonomic group and floodplain section).</p>
<pre class="code"><code>bsIO.show_full_data_frame(TFI)</code></pre>
<h1 id="assess-biodiversity-scores-before-and-after-measure">Assess biodiversity scores before and after measure</h1>
<p>The following cells are for an exercise to access such a floodplain measure to biodiversity.</p>
<p>We assume such a measure is implemented in the following ecotope map <strong>msr_eco</strong>.</p>
<pre class="code"><code>msr_eco = biosafe.read_map_with_legend(os.path.join(output_folder, &#39;ecotopes_msr.map&#39;))</code></pre>
<pre class="code"><code># # Plot the ecotope map (not needed)
# ~ plot(msr_eco.pcr_map)</code></pre>
<p>Note that this measure is only implemented in some parts of the model area (not for all floodplain IDs). Its reference/existing condition (before the measure), which is taken from them map <strong>ecotopes</strong> map, is given as <strong>ref_eco</strong>.</p>
<pre class="code"><code>msr_area = pcr.defined(msr_eco.pcr_map)
sections = pcr.ifthen(msr_area, pcr.nominal(1))
ref_eco = biosafe.LegendMap(pcr.ifthen(msr_area, ecotopes.pcr_map), msr_eco.legend_df)</code></pre>
<pre class="code"><code>plot(sections)</code></pre>
<pre class="code"><code># # Plot the ecotope map (not needed)
# ~ plot(ref_eco.pcr_map)</code></pre>
<p>The BIOSAFE model for the reference/existing condition is calculated as follows. For this exercise, we just calculate the scores FI and TFI.</p>
<pre class="code"><code>bs_ref = biosafe.spatialBiosafe(bs, ref_eco, sections, ndff_species,
                        params = [&#39;FI&#39;, &#39;TFI&#39;], toFiles=None)
FI_ref, TFI_ref = bs_ref.spatial()</code></pre>
<p>The BIOSAFE model for the measure condition is calculated as follows.</p>
<pre class="code"><code>bs_msr = biosafe.spatialBiosafe(bs, msr_eco, sections, ndff_species,
                        params = [&#39;FI&#39;, &#39;TFI&#39;], toFiles=None)
FI_msr, TFI_msr = bs_msr.spatial()</code></pre>
<p>Then, we can compare and plot the TFI scores, before and after the measure.</p>
<pre class="code"><code>#%% Visualization
%matplotlib notebook

sns.set_style(&quot;ticks&quot;)
# TFI_ref.drop([&#39;xcoor&#39;, &#39;ycoor&#39;], axis=1).plot.bar()
# TFI_msr.drop([&#39;xcoor&#39;, &#39;ycoor&#39;], axis=1).plot.bar()

comparison = pd.concat([TFI_ref, TFI_msr]).drop([&#39;xcoor&#39;, &#39;ycoor&#39;], axis=1)
comparison.index = [&#39;Reference&#39;, &#39;Measures&#39;]
comparison.columns = [u&#39;Birds&#39;, u&#39;Butterflies&#39;, u&#39;Dragon- and damselflies&#39;,
                    u&#39;Fish&#39;, u&#39;Herpetofauna&#39;, u&#39;Higher plants&#39;, u&#39;Mammals&#39;]
comparison.columns.name = &#39;Taxonomic group&#39;

comparison.plot.bar(rot=0)


plt.savefig(&#39;comparison_biosafe.png&#39;, dpi=300)
comparison.to_csv(&#39;comparison_biosafe.csv&#39;)</code></pre>
<p>We can also compare and plot the FI scores, before and after the measure.</p>
<pre class="code"><code>#%% Visualization
%matplotlib notebook

sns.set_style(&quot;ticks&quot;)
# FI_ref.drop([&#39;xcoor&#39;, &#39;ycoor&#39;], axis=1).plot.bar()
# FI_msr.drop([&#39;xcoor&#39;, &#39;ycoor&#39;], axis=1).plot.bar()

comparison = pd.concat([FI_ref, FI_msr]).drop([&#39;xcoor&#39;, &#39;ycoor&#39;], axis=1)
comparison.index = [&#39;Reference&#39;, &#39;Measures&#39;]
comparison.plot.bar(rot=0)

plt.savefig(&#39;comparison_biosafe_FI.png&#39;, dpi=300)
comparison.to_csv(&#39;comparison_biosafe_FI.csv&#39;)</code></pre>
