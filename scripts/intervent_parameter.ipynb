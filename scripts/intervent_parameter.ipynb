<h1 id="introduction">Introduction</h1>
<p>This notebook facilitates using the RiverScape Python package (Straatsma and Kleinhans, 2018) to parameterize and position landscaping measures and update the input data for the two-dimensional (2D) flow model Delft3D Flexible Mesh (DFM).</p>
<p>For the current notebook version, we would use the River Waal, which is the main distributary of the River Rhine in the Netherlands.</p>
<h2 id="requirement-python-modulespackages">Requirement (Python modules/packages)</h2>
<p>To run this notebook, please import the following Python modules.</p>
<pre class="code"><code>%load_ext autoreload
%autoreload 2

# import standard modules
import os
import sys
import string
import subprocess
import time
import math
import pprint as pp

# import required modules/packages (which may require installation)
import numpy as np
import pandas as pd
import geopandas as gpd
from scipy.spatial import Delaunay
from shapely.geometry import MultiLineString
from shapely.ops import cascaded_union, polygonize


from collections import OrderedDict
import pcraster as pcr</code></pre>
<p>Please also make sure that this notebook file is in the same folder as the RiverScape Python module files that must be loaded. You can then import the RiverScape Python module:</p>
<pre class="code"><code>from riverscape import *
import geoviews
geoviews.extension(&#39;bokeh&#39;)</code></pre>
<h1 id="input-and-output-folders">Input and output folders</h1>
<p>In the following please define the input and output folders.</p>
<pre class="code"><code># Default locations
input_dir    = &#39;/home/schmi109/development/projects/RiverScape/input_files/input&#39; #os.getcwd()
output_dir   = os.getcwd()
</code></pre>
<p>You may also want to set the folder, interactively</p>
<pre class="code"><code># input_dir  = select_directory()</code></pre>
<pre class="code"><code># output_dir = select_directory()</code></pre>
<pre class="code"><code># make scratch directory and go to this folder
scratch_dir  = os.path.join(output_dir, &quot;tmp&quot;)
pcrRecipes.make_dir(scratch_dir)
os.chdir(scratch_dir)

# print some statements about the folder locations:
msg = &quot;The input folder is set on   : {}&quot;.format(input_dir)
print(msg)
msg = &quot;The output folder is set on  : {}&quot;.format(output_dir)
print(msg)
msg = &quot;The scratch folder is set on : {}&quot;.format(scratch_dir)
print(msg)</code></pre>
<h1 id="start-processingcalculation">Start processing/calculation</h1>
<p>To start processing, please load the following cells in order to set and test some basic configuration.</p>
<pre class="code"><code># go to the scratch folder
pcrRecipes.make_dir(scratch_dir)
os.chdir(scratch_dir)

# set global option for pcraster such that length of cells is computed in true length of cells
pcr.setglobaloption(&#39;unittrue&#39;)

# set the pcraster clone map
current_dir = os.path.join(input_dir, &#39;reference_maps&#39;)
pcr.setclone(os.path.join(current_dir, &#39;clone.map&#39;))</code></pre>
<h2 id="loading-input-files">Loading input files</h2>
<p>By running the following cells, the input files would be read. These input files consist of the following attributes of current/existing condition.</p>
<ul>
<li>main_dike: current/existing river embankment properties, e.g. length, volume and height</li>
<li>minemb: minor embankment properties, e.g. length, volume and height</li>
<li>groynse: groyne properties, e.g. length, volume and height</li>
<li>hydro: hydrodynamics (delft3d-fm) attributes, e.g. chezy, nikuradse, specific discharge, velocity, water depth, water level, etc.</li>
<li>mesh: delft3d mesh</li>
<li>axis: river attributes, e.g. location, radius, turning direction, velocity, water depth, water level, etc.</li>
<li>geom: river geometry attributes, e.g. clone, dem, dist_to_main_dike, dist_to_groyne_field, dist_to_main_channel, flpl_width, flpl_narrow, flpl_wide, main_channel_width, river_side, shore_line</li>
<li>lulc: land use and land cover attributes, e.g. backwaters, ecotopos, floodplain, groyne_field, main_channel, trachytopes, sections, winter_bed, real_estate_value</li>
</ul>
<p>For further information about them, please check Menno and Kleinhans (2018), see e.g. their Table 2.</p>
<pre class="code"><code># change to the &#39;current_dir&#39; (input data) for reading/importing input data
os.chdir(current_dir)


#TODO: Check why do we need this? It seems that os.path.join does not work?

# reading current/existing river embankment properties for main dikes, minor embankments and groynes
# - for each, this will return location, length, volume, and height
main_dike = msr.read_dike_maps(current_dir, &#39;main_dike&#39;)
minemb    = msr.read_dike_maps(current_dir, &#39;minemb&#39;)
groynes   = msr.read_dike_maps(current_dir, &#39;groyne&#39;)

# reading Hydrodynamics (delft3d-fm) attributes
# - chezy, nikuradse, specific discharge, velocity, water depth, water level, etc
hydro = msr.read_hydro_maps(current_dir)
# - hydrodynamic mesh
mesh = msr.read_mesh_maps(current_dir)

# reading RiverScape attributes
# - axis: location, radius, turning_direction, rkm, rkm_point, rkm_line, rkm_full
axis = msr.read_axis_maps(current_dir)
# - geometry: clone, dem, distance to main dike, distance to groyne, distance to main channel, floodplain widths, contiguous narrow floodplain, contiguous wide floodplain
geom = msr.read_geom_maps(current_dir)
# - land use land cover attributes
lulc = msr.read_lulc_maps(current_dir)

msg = &quot;Files should be already read from: &quot; + current_dir
print(&quot;\n&quot;)
print(msg)</code></pre>
<h3 id="listing-attributesvariables">Listing attributes/variables</h3>
<p>After succesfully reading the files/maps, you should be able to list the attributes/variables of main_dike, minemb, groynes, hydro, mesh, axis, geom, and lulc in the following.</p>
<pre class="code"><code>for obj in [&quot;main_dike&quot;, &quot;minemb&quot;, &quot;groynes&quot;, &quot;hydro&quot;, &quot;mesh&quot;, &quot;axis&quot;, &quot;geom&quot;, &quot;lulc&quot;]:
    print(&quot;\n&quot;)
    print(obj)
    print(vars()[obj].__dict__.keys())</code></pre>
<h3 id="visualizing-existing-attributes">Visualizing existing attributes</h3>
<p>You may want to check existing attributes by plotting the corresponding raster maps. You can use the plot function for that, for example to plot the digital elevation model type:</p>
<div class="sourceCode" id="cb10"><pre class="sourceCode python"><code class="sourceCode python"><a class="sourceLine" id="cb10-1" title="1">plot(geom.dem)</a></code></pre></div>
<pre class="code"><code></code></pre>
<pre class="code"><code># plot river main channel width
plot(geom.main_channel_width)</code></pre>
<pre class="code"><code># plot height of main_dike
plot(main_dike.height)</code></pre>
<pre class="code"><code># plot flpl_wide IDs
plot(geom.flpl_wide)</code></pre>
<p><br></p>
<h2 id="initiating-the-river-and-its-measures">Initiating the River and Its Measures</h2>
<p>Given the aforementioned attributes, the River Waal and its current measured would be initiated by executing the following cells.</p>
<pre class="code"><code># The River Wall is initiated based on the aforementioned given attributes.
waal = msr.River(&#39;Waal&#39;, axis, main_dike, minemb, groynes, hydro,
                         mesh, lulc, geom)</code></pre>
<pre class="code"><code># Initiate the Measures for the River.
waal_msr = msr.RiverMeasures(waal)</code></pre>
<h1 id="configuration-for-the-measures">Configuration for the Measures</h1>
<p>First, you can have a look at the current specification of the ecotope and trachytope classes present in the area. The floodplain sections are depicted as well. Ecotopes are … Trachytopes are …</p>
<p>Open the maps with the following command.</p>
<pre class="code"><code>plot_eco_trachy_sec()</code></pre>
<h2 id="side-channel-measure">Side channel measure:</h2>
<h3 id="make-your-own-side-channel-properties">Make your own side channel properties:</h3>
<!-- The following properties are the default/setting configuration to the Measures. -->
<p>The measures are configured with certain properties. You can inspect and change a few of them:</p>
<pre class="code"><code>settings = measures_settings()</code></pre>
<p>You may want to modify the side channel properties using the following interactive cell. Note that height and width are not true to scale.</p>
<pre class="code"><code>channel_values = channel_properties()</code></pre>
<p>Load the following cell to use your configuration.</p>
<pre class="code"><code>settings[&#39;channel_width&#39;] = channel_values.kwargs[&#39;width&#39;]
settings[&#39;channel_depth&#39;] = channel_values.kwargs[&#39;depth&#39;]
settings[&#39;channel_slope&#39;] = channel_values.kwargs[&#39;slope&#39;]
pp.pprint(settings)
waal_msr.settings = settings</code></pre>
<h3 id="selecting-the-maskregion">Selecting the mask/region:</h3>
<p>Please select the areas where you want to perform this measure.</p>
<p>Please also give a label for this measure.</p>
<pre class="code"><code>label = &#39;custom_label&#39;</code></pre>
<pre class="code"><code># Default mask and label
#label = &#39;everywhere&#39;
#mask = pcr.boolean(1)

# TODO: Make interactive input for selecting mask for every measure.

# - some examples to select a limited mask region

#label = &quot;large_sections&quot;
#mask = pcr.ifthen(pcr.areaarea(waal.geom.flpl_wide) &gt; 1e6, pcr.boolean(1.0))

# -- this will return floodplain with IDs &lt; 5
#label = &quot;edwin_sections&quot;
#mask = pcr.ifthen(pcr.scalar(waal.geom.flpl_wide) &lt; 5, pcr.boolean(1.0))

# - plot the chosen mask
#plot(mask)
#chosen_flpl_wide = pcr.ifthen(mask, waal.geom.flpl_wide)
#plot(chosen_flpl_wide)</code></pre>
<pre class="code"><code>
selection = select_area(waal.geom.flpl_wide)
</code></pre>
<pre class="code"><code>mask = generate_mask(waal.geom.flpl_wide, selection)
</code></pre>
<pre class="code"><code>plot(mask)</code></pre>
<pre class="code"><code>chosen_flpl_wide = pcr.ifthen(mask, waal.geom.flpl_wide)
plot(chosen_flpl_wide)</code></pre>
<h3 id="implementing-the-measure">Implementing the measure</h3>
<p>By running the following cell, the measure will be implemented.</p>
<pre class="code"><code># measure by side channel constrcution
# - this includes looping over floodplain IDs
chan_msr = waal_msr.side_channel_measure(settings, mask = mask, ID = label)</code></pre>
<h3 id="exploring-the-measure">Exploring the measure</h3>
<p>You can explore the measure implemented by running the following plotting cell. Plotting may take a while before completed.</p>
<pre class="code"><code># plot/explore side channel measure
chan_msr.plot()</code></pre>
<h2 id="floodplain-lowering-measure">Floodplain lowering measure:</h2>
<p>For the floodplain lowering measure you need to select new areas where you want to introduce this measure. First, give a new identifier:</p>
<pre class="code"><code>ID = &#39;everywhere&#39;</code></pre>
<p>Then specify the sections that will form the new mask:</p>
<pre class="code"><code>sections = pcr.readmap(&#39;flpl_sections.map&#39;)
selection = select_area(sections)</code></pre>
<p>and generate the new mask</p>
<pre class="code"><code>mask = generate_mask(sections, selection)</code></pre>
<p>For checking purposes you could plot the mask map.</p>
<pre class="code"><code></code></pre>
<p>As before, you can now perform the measure and visualise the results.</p>
<pre class="code"><code># floodplain lowering measure
lowering_msr = waal_msr.lowering_measure(settings, mask=mask, ID=ID)</code></pre>
<pre class="code"><code># plot/explore floodplain lowering measure
lowering_msr.plot()</code></pre>
<h2 id="groyne-lowering-measure">Groyne lowering measure:</h2>
<p>Please set the ID/label for this measure and set the mask where you want to introduce this measure.</p>
<pre class="code"><code>ID = &#39;everywhere&#39;</code></pre>
<p>For the groyne lowering measure you can specify a specific area, defined by the distances from . The minimum and maximum values should be between 867 and 960.</p>
<pre class="code"><code>min_value = 890
max_value = 910
rkm = pcr.readmap(&#39;rkm_full.map&#39;)
mask = pcr.ifthen((rkm &gt;= min_value) &amp; (rkm &lt;= max_value), pcr.boolean(1))</code></pre>
<p>Plot the new mask:</p>
<pre class="code"><code></code></pre>
<pre class="code"><code># groyne lowering measure
groyne_low_msr = waal_msr.groyne_lowering_msr(settings, mask=mask, ID=ID)</code></pre>
<pre class="code"><code># plot/explore groyne lowering measure
groyne_low_msr.plot()</code></pre>
<h2 id="minor-embankment-lowering-measure">Minor embankment lowering measure:</h2>
<p>Please set the ID/label for this measure and set the mask where you want to introduce this measure.</p>
<pre class="code"><code>mask = pcr.boolean(1)
ID = &#39;everywhere&#39;</code></pre>
<pre class="code"><code># measure by minor embankment lowering
minemb_low_msr = waal_msr.minemb_lowering_msr(settings, mask=mask, ID=ID)</code></pre>
<pre class="code"><code># plot/explore minor embankment lowering
minemb_low_msr.plot()</code></pre>
<h2 id="main-dike-raising-measure">Main dike raising measure:</h2>
<p>Please set the ID/label for this measure and set the mask where you want to introduce this measure.</p>
<pre class="code"><code>mask = pcr.boolean(1)
ID = &#39;everywhere&#39;</code></pre>
<pre class="code"><code># measure by main dike raising
main_dike_raise_msr = waal_msr.main_dike_raising_msr(settings, mask=mask, ID=ID)</code></pre>
<pre class="code"><code># plot/explore main dike raising measure
main_dike_raise_msr.plot()</code></pre>
<h2 id="roughness-smoothing-measure">Roughness smoothing measure:</h2>
<p>Please set the ID/label for this measure and set the mask where you want to introduce this measure.</p>
<pre class="code"><code>mask = pcr.boolean(1)
ID = &#39;everywhere&#39;</code></pre>
<pre class="code"><code># measure by roughness smoothing
smooth_msr = waal_msr.smoothing_measure(settings, mask=mask, ID=ID)</code></pre>
<pre class="code"><code># plot/explore measure by roughness smoothing
smooth_msr.plot()</code></pre>
<h1 id="saving-measures-to-the-disk">Saving measures to the disk</h1>
<pre class="code"><code># list of measures
msr_list = [groyne_low_msr, minemb_low_msr,
            main_dike_raise_msr, lowering_msr, chan_msr, smooth_msr]
# - preparing the directory
msr_root_dir = os.path.join(output_dir, &#39;measures_ensemble/maps&#39;)
pcrRecipes.make_dir(msr_root_dir)
for measure in msr_list:
    msr.write_measure(measure, msr_root_dir)</code></pre>
