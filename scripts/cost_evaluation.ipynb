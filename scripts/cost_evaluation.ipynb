{
 "cells": [
  {
   "cell_type": "markdown",
   "metadata": {},
   "source": [
    "Cost evaluation\n",
    "===============\n",
    "\n",
    "This notebook provides cost evaluation of a set of measures. First\n",
    "import the RiverScape and additional required Python modules to run this\n",
    "notebook."
   ]
  },
  {
   "cell_type": "code",
   "execution_count": null,
   "metadata": {},
   "outputs": [],
   "source": [
    "import pandas\n",
    "import numpy\n",
    "from riverscape import *\n",
    "\n",
    "# Visualisation\n",
    "import geoviews\n",
    "geoviews.extension('bokeh')"
   ]
  },
  {
   "cell_type": "markdown",
   "metadata": {},
   "source": [
    "Cost evaluation is performed on a set of measures that you defined in\n",
    "the intervention planning notebook. Previously, you stored a set of\n",
    "measures to disk. Now choose the directory holding the measures that you\n",
    "want to evaluate, select the `maps` folder:"
   ]
  },
  {
   "cell_type": "code",
   "execution_count": null,
   "metadata": {},
   "outputs": [],
   "source": [
    "msr_map_dir  = select_directory()"
   ]
  },
  {
   "cell_type": "markdown",
   "metadata": {},
   "source": [
    "After that you need to specify the paths to the required input\n",
    "directories:"
   ]
  },
  {
   "cell_type": "code",
   "execution_count": null,
   "metadata": {},
   "outputs": [],
   "source": [
    "root_dir = os.path.dirname(os.getcwd())\n",
    "ref_map_dir = os.path.join(root_dir, 'input_files', 'input', 'reference_maps')\n",
    "input_dir = os.path.join(root_dir, 'input_files', 'input')\n",
    "cost_dir = os.path.join(root_dir, 'input_files', 'input', 'cost')"
   ]
  },
  {
   "cell_type": "markdown",
   "metadata": {},
   "source": [
    "With the given paths you can read the input datasets required for the\n",
    "cost calculation:"
   ]
  },
  {
   "cell_type": "code",
   "execution_count": null,
   "metadata": {},
   "outputs": [],
   "source": [
    "# Read input maps\n",
    "pcr.setclone(os.path.join(ref_map_dir, 'clone.map'))\n",
    "depthToSand = pcr.readmap(os.path.join(cost_dir, 'depthToSand.map'))\n",
    "dike_length = pcr.readmap(os.path.join(cost_dir, 'dike_length.map'))\n",
    "dike_raise_sections = pcr.readmap(os.path.join(cost_dir, 'dike_raise_sections.map'))\n",
    "pollution_zones  = pcr.readmap(os.path.join(cost_dir, 'pollution_zones.map'))\n",
    "smoothing_cost_classes = pcr.readmap(os.path.join(cost_dir, 'smoothing_cost_classes.map'))\n",
    "dem = pcr.readmap(os.path.join(ref_map_dir, 'dem.map'))\n",
    "\n",
    "groyne = read_dike_maps(ref_map_dir, 'groyne')\n",
    "minemb = read_dike_maps(ref_map_dir, 'minemb')\n",
    "main_dike = read_dike_maps(ref_map_dir, 'main_dike')\n",
    "\n",
    "# Read input distributions\n",
    "road_distr = read_distribution(cost_dir, 'roads')\n",
    "smoothing_distr = read_distribution(cost_dir, 'smoothing')\n",
    "building_distr = read_distribution(cost_dir, 'building_tot')\n",
    "dike_raise50_distr = read_distribution(cost_dir, 'dike_raise50')\n",
    "dike_raise100_distr = read_distribution(cost_dir, 'dike_raise100')\n",
    "dike_reloc_distr = read_distribution(cost_dir, 'dike_reloc')\n",
    "land_acq_distr = read_distribution(cost_dir, 'land_acq')\n",
    "minemb_ext_use_distr = read_distribution(cost_dir, 'minemb_ext_use')\n",
    "minemb_int_use_distr = read_distribution(cost_dir, 'minemb_int_use')\n",
    "minemb_polluted_distr = read_distribution(cost_dir, 'minemb_polluted')\n"
   ]
  },
  {
   "cell_type": "markdown",
   "metadata": {},
   "source": [
    "Costs for the measures are calculated using different sources. One type\n",
    "of sources are spatial datasets showing the spatial distribution of\n",
    "certain costs, you just read the from disk.\n",
    "\n",
    "You can visualize these datasets and browse the costs per cell. Maps can\n",
    "be plotted with e.g.\n",
    "\n",
    "``` python\n",
    "plot(pollution_zones)\n",
    "```"
   ]
  },
  {
   "cell_type": "code",
   "execution_count": null,
   "metadata": {},
   "outputs": [],
   "source": []
  },
  {
   "cell_type": "markdown",
   "metadata": {},
   "source": [
    "Datasets read as input distributions hold two maps, the mean values and\n",
    "the standard deviation values. You can plot these, e.g. for the roads,\n",
    "with\n",
    "\n",
    "``` python\n",
    "road_distr.plot()\n",
    "```"
   ]
  },
  {
   "cell_type": "code",
   "execution_count": null,
   "metadata": {},
   "outputs": [],
   "source": []
  },
  {
   "cell_type": "markdown",
   "metadata": {},
   "source": [
    "Another specification of costs is given by categories, such as the costs\n",
    "for earth work or removal of roads and bridges. In case you are\n",
    "interested in the implementation price per unit you can load and display\n",
    "the full table:"
   ]
  },
  {
   "cell_type": "code",
   "execution_count": null,
   "metadata": {},
   "outputs": [],
   "source": [
    "costs = pandas.read_csv(os.path.join(cost_dir, 'implementation_costs.csv'))\n",
    "costs = costs.replace(numpy.nan, '', regex=True)\n",
    "dfStyler = costs.style.set_properties(**{'text-align': 'left'})\n",
    "dfStyler.hide_index()\n",
    "dfStyler.set_table_styles([dict(selector='th', props=[('text-align', 'left')])])"
   ]
  },
  {
   "cell_type": "markdown",
   "metadata": {},
   "source": [
    "You also need to read costs for earthwork:"
   ]
  },
  {
   "cell_type": "code",
   "execution_count": null,
   "metadata": {},
   "outputs": [],
   "source": [
    "cost_input_ew = pd.read_csv(os.path.join(cost_dir, 'cost_ew.csv'), index_col=0)\n",
    "cost_correction = pd.read_csv(os.path.join(cost_dir, 'cost_correction.csv'), index_col=0, comment='#')"
   ]
  },
  {
   "cell_type": "markdown",
   "metadata": {},
   "source": [
    "Each cost calculation is implemented in a separate class, you first need\n",
    "to instantiate them:"
   ]
  },
  {
   "cell_type": "code",
   "execution_count": null,
   "metadata": {},
   "outputs": [],
   "source": [
    "c_sm = CostSmoothing('dummylabelCostSmoothing', smoothing_distr)\n",
    "\n",
    "### Earth work\n",
    "c_ew = CostEarthwork('dummylabelCostEarthwork', minemb_ext_use_distr, minemb_int_use_distr, minemb_polluted_distr, dem, minemb, groyne, pollution_zones, cost_input_ew)\n",
    "\n",
    "### Land preparation\n",
    "c_lp = CostPreparation('dummylabelCostPreparation', land_acq_distr, road_distr, smoothing_distr, building_distr, smoothing_cost_classes)\n",
    "\n",
    "### Dike relocation\n",
    "c_dreloc = CostDikeRelocation('dummylabelCostDikeRelocation', dike_reloc_distr, dike_length)\n",
    "\n",
    "### Dike raising\n",
    "c_draise = CostDikeRaising('dummylabelCostDikeRaising', dike_raise50_distr, dike_raise100_distr, dike_length)"
   ]
  },
  {
   "cell_type": "markdown",
   "metadata": {},
   "source": [
    "With the required input data prepared it is now possible to calculate\n",
    "the costs for the measures:"
   ]
  },
  {
   "cell_type": "code",
   "execution_count": null,
   "metadata": {},
   "outputs": [],
   "source": [
    "cost_types = [c_sm, c_ew, c_lp, c_dreloc, c_draise]\n",
    "cost_all_msrs, std_all_msrs = assess_effects(cost_types, msr_map_dir, cost_correction)"
   ]
  },
  {
   "cell_type": "markdown",
   "metadata": {},
   "source": [
    "After calculation, you can display the calculated costs in tabular form:"
   ]
  },
  {
   "cell_type": "code",
   "execution_count": null,
   "metadata": {},
   "outputs": [],
   "source": [
    "display(cost_all_msrs)"
   ]
  },
  {
   "cell_type": "markdown",
   "metadata": {},
   "source": [
    "In addition, you can visualise the results for the selected measures:"
   ]
  },
  {
   "cell_type": "code",
   "execution_count": null,
   "metadata": {},
   "outputs": [],
   "source": [
    "plot_costs(cost_all_msrs)"
   ]
  },
  {
   "cell_type": "markdown",
   "metadata": {},
   "source": [
    "In case you want to keep the results you can store them to disk."
   ]
  },
  {
   "cell_type": "code",
   "execution_count": null,
   "metadata": {},
   "outputs": [],
   "source": [
    "filename = 'cost_all.csv'\n",
    "cost_all_msrs.to_csv(filename)"
   ]
  }
 ],
 "nbformat": 4,
 "nbformat_minor": 5,
 "metadata": {}
}
