<h1 id="cost-evaluation">Cost evaluation</h1>
<p>This notebook provides cost evaluation of a set of measures. First import the RiverScape and additional required Python modules to run this notebook.</p>
<pre class="code"><code>import pandas
import numpy
from riverscape import *

# Visualisation
import geoviews
geoviews.extension(&#39;bokeh&#39;)</code></pre>
<p>Cost evaluation is performed on a set of measures that you defined in the intervention planning notebook. Previously, you stored a set of measures to disk. Now choose the directory holding the measures that you want to evaluate, select the <code>maps</code> folder:</p>
<pre class="code"><code>msr_map_dir  = select_directory()</code></pre>
<p>After that you need to specify the paths to the required input directories:</p>
<pre class="code"><code>root_dir = os.path.dirname(os.getcwd())
ref_map_dir = os.path.join(root_dir, &#39;input_files&#39;, &#39;input&#39;, &#39;reference_maps&#39;)
input_dir = os.path.join(root_dir, &#39;input_files&#39;, &#39;input&#39;)
cost_dir = os.path.join(root_dir, &#39;input_files&#39;, &#39;input&#39;, &#39;cost&#39;)</code></pre>
<p>With the given paths you can read the input datasets required for the cost calculation:</p>
<pre class="code"><code># Read input maps
pcr.setclone(os.path.join(ref_map_dir, &#39;clone.map&#39;))
depthToSand = pcr.readmap(os.path.join(cost_dir, &#39;depthToSand.map&#39;))
dike_length = pcr.readmap(os.path.join(cost_dir, &#39;dike_length.map&#39;))
dike_raise_sections = pcr.readmap(os.path.join(cost_dir, &#39;dike_raise_sections.map&#39;))
pollution_zones  = pcr.readmap(os.path.join(cost_dir, &#39;pollution_zones.map&#39;))
smoothing_cost_classes = pcr.readmap(os.path.join(cost_dir, &#39;smoothing_cost_classes.map&#39;))
dem = pcr.readmap(os.path.join(ref_map_dir, &#39;dem.map&#39;))

groyne = read_dike_maps(ref_map_dir, &#39;groyne&#39;)
minemb = read_dike_maps(ref_map_dir, &#39;minemb&#39;)
main_dike = read_dike_maps(ref_map_dir, &#39;main_dike&#39;)

# Read input distributions
road_distr = read_distribution(cost_dir, &#39;roads&#39;)
smoothing_distr = read_distribution(cost_dir, &#39;smoothing&#39;)
building_distr = read_distribution(cost_dir, &#39;building_tot&#39;)
dike_raise50_distr = read_distribution(cost_dir, &#39;dike_raise50&#39;)
dike_raise100_distr = read_distribution(cost_dir, &#39;dike_raise100&#39;)
dike_reloc_distr = read_distribution(cost_dir, &#39;dike_reloc&#39;)
land_acq_distr = read_distribution(cost_dir, &#39;land_acq&#39;)
minemb_ext_use_distr = read_distribution(cost_dir, &#39;minemb_ext_use&#39;)
minemb_int_use_distr = read_distribution(cost_dir, &#39;minemb_int_use&#39;)
minemb_polluted_distr = read_distribution(cost_dir, &#39;minemb_polluted&#39;)
</code></pre>
<p>Costs for the measures are calculated using different sources. One type of sources are spatial datasets showing the spatial distribution of certain costs, you just read the from disk.</p>
<p>You can visualize these datasets and browse the costs per cell. Maps can be plotted with e.g.</p>
<div class="sourceCode" id="cb5"><pre class="sourceCode python"><code class="sourceCode python"><a class="sourceLine" id="cb5-1" title="1">plot(pollution_zones)</a></code></pre></div>
<pre class="code"><code></code></pre>
<p>Datasets read as input distributions hold two maps, the mean values and the standard deviation values. You can plot these, e.g. for the roads, with</p>
<div class="sourceCode" id="cb7"><pre class="sourceCode python"><code class="sourceCode python"><a class="sourceLine" id="cb7-1" title="1">road_distr.plot()</a></code></pre></div>
<pre class="code"><code></code></pre>
<p>Another specification of costs is given by categories, such as the costs for earth work or removal of roads and bridges. In case you are interested in the implementation price per unit you can load and display the full table:</p>
<pre class="code"><code>costs = pandas.read_csv(os.path.join(cost_dir, &#39;implementation_costs.csv&#39;))
costs = costs.replace(numpy.nan, &#39;&#39;, regex=True)
dfStyler = costs.style.set_properties(**{&#39;text-align&#39;: &#39;left&#39;})
dfStyler.hide_index()
dfStyler.set_table_styles([dict(selector=&#39;th&#39;, props=[(&#39;text-align&#39;, &#39;left&#39;)])])</code></pre>
<p>You also need to read costs for earthwork:</p>
<pre class="code"><code>cost_input_ew = pd.read_csv(os.path.join(cost_dir, &#39;cost_ew.csv&#39;), index_col=0)
cost_correction = pd.read_csv(os.path.join(cost_dir, &#39;cost_correction.csv&#39;), index_col=0, comment=&#39;#&#39;)</code></pre>
<p>Each cost calculation is implemented in a separate class, you first need to instantiate them:</p>
<pre class="code"><code>c_sm = CostSmoothing(&#39;dummylabelCostSmoothing&#39;, smoothing_distr)

### Earth work
c_ew = CostEarthwork(&#39;dummylabelCostEarthwork&#39;, minemb_ext_use_distr, minemb_int_use_distr, minemb_polluted_distr, dem, minemb, groyne, pollution_zones, cost_input_ew)

### Land preparation
c_lp = CostPreparation(&#39;dummylabelCostPreparation&#39;, land_acq_distr, road_distr, smoothing_distr, building_distr, smoothing_cost_classes)

### Dike relocation
c_dreloc = CostDikeRelocation(&#39;dummylabelCostDikeRelocation&#39;, dike_reloc_distr, dike_length)

### Dike raising
c_draise = CostDikeRaising(&#39;dummylabelCostDikeRaising&#39;, dike_raise50_distr, dike_raise100_distr, dike_length)</code></pre>
<p>With the required input data prepared it is now possible to calculate the costs for the measures:</p>
<pre class="code"><code>cost_types = [c_sm, c_ew, c_lp, c_dreloc, c_draise]
cost_all_msrs, std_all_msrs = assess_effects(cost_types, msr_map_dir, cost_correction)</code></pre>
<p>After calculation, you can display the calculated costs in tabular form:</p>
<pre class="code"><code>display(cost_all_msrs)</code></pre>
<p>In addition, you can visualise the results for the selected measures:</p>
<pre class="code"><code>plot_costs(cost_all_msrs)</code></pre>
<p>In case you want to keep the results you can store them to disk.</p>
<pre class="code"><code>filename = &#39;cost_all.csv&#39;
cost_all_msrs.to_csv(filename)</code></pre>
