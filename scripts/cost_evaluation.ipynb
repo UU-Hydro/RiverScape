{
 "cells": [
  {
   "cell_type": "markdown",
   "metadata": {},
   "source": [
    "Evaluation of implementation costs\n",
    "==================================\n",
    "\n",
    "Overview\n",
    "--------\n",
    "\n",
    "Costs of particular interventions can be mainly grouped into two types:\n",
    "non-recurring costs (e.g. construction works) accruing at measure\n",
    "implementation, and recurring costs (e.g. yearly maintenance) as\n",
    "follow-up costs. This notebook provides the cost evaluation of a set of\n",
    "measures.\n",
    "\n",
    "How to start\n",
    "------------\n",
    "\n",
    "### Setting up the environment\n",
    "\n",
    "As before, first import the RiverScape and additionally required Python\n",
    "modules to run this notebook."
   ]
  },
  {
   "cell_type": "code",
   "execution_count": null,
   "metadata": {},
   "outputs": [],
   "source": [
    "# Standard and scientific modules\n",
    "import numpy\n",
    "import pandas\n",
    "import os\n",
    "\n",
    "# Visualisation\n",
    "import geoviews\n",
    "geoviews.extension('bokeh')\n",
    "\n",
    "# Modelling\n",
    "import pcraster\n",
    "import riverscape"
   ]
  },
  {
   "cell_type": "markdown",
   "metadata": {},
   "source": [
    "### Specify the input data location\n",
    "\n",
    "The evaluation of affected landowners is performed on a set of measures.\n",
    "You can use the default example data measures to continue this notebook:"
   ]
  },
  {
   "cell_type": "code",
   "execution_count": null,
   "metadata": {},
   "outputs": [],
   "source": [
    "measure_dir = riverscape.example_data_path()"
   ]
  },
  {
   "cell_type": "markdown",
   "metadata": {},
   "source": [
    "Cost evaluation is performed on a set of measures that you defined in\n",
    "the intervention planning notebook. Previously, you stored a set of\n",
    "measures to disk. Now choose the directory holding the measures that you\n",
    "want to evaluate, select the `maps` folder:"
   ]
  },
  {
   "cell_type": "code",
   "execution_count": null,
   "metadata": {},
   "outputs": [],
   "source": [
    "# measure_dir = riverscape.select_directory()"
   ]
  },
  {
   "cell_type": "markdown",
   "metadata": {},
   "source": [
    "Stepwise calculation of the costs\n",
    "---------------------------------\n",
    "\n",
    "To rate whether a measure is financially feasible or not, it is relevant\n",
    "to have an estimate on the potential investment costs. These costs\n",
    "usually include costs for earthwork, treatment of polluted soil, dike\n",
    "raising, groyne lowering, and acquisition or demolition cost of\n",
    "buildings and land. All these different cost types use various input\n",
    "sources as basis for an cost estimate.\n",
    "\n",
    "Spatial datasets of cost items\n",
    "------------------------------\n",
    "\n",
    "The cost calculation of interventions also depends on various input\n",
    "datasets, such as location and types of infrastructure and buildings, or\n",
    "pollution zones. The spatial distribution and different types of costs\n",
    "contribute to the overall costs of a measure.\n",
    "\n",
    "You you need to specify the paths to the required input directories:"
   ]
  },
  {
   "cell_type": "code",
   "execution_count": null,
   "metadata": {},
   "outputs": [],
   "source": [
    "root_dir = os.path.dirname(os.getcwd())\n",
    "ref_map_dir = os.path.join(root_dir, 'input_files', 'input', 'reference_maps')\n",
    "input_dir = os.path.join(root_dir, 'input_files', 'input')\n",
    "cost_dir = os.path.join(root_dir, 'input_files', 'input', 'cost')"
   ]
  },
  {
   "cell_type": "markdown",
   "metadata": {},
   "source": [
    "With the given paths to the input directories you can read all the\n",
    "datasets required for the cost calculation. Costs for the measures are\n",
    "thereby calculated using different types of source data.\n",
    "\n",
    "One type of sources that you will firstly read are spatial datasets\n",
    "showing the spatial distribution of certain costs. You can just read\n",
    "them from disk and assigned them to variables that you can further use\n",
    "in this notebook:"
   ]
  },
  {
   "cell_type": "code",
   "execution_count": null,
   "metadata": {},
   "outputs": [],
   "source": [
    "# Define the area mask\n",
    "pcraster.setclone(os.path.join(ref_map_dir, 'clone.map'))\n",
    "\n",
    "# Read input maps\n",
    "depthToSand = pcraster.readmap(os.path.join(cost_dir, 'depthToSand.map'))\n",
    "dike_length = pcraster.readmap(os.path.join(cost_dir, 'dike_length.map'))\n",
    "dike_raise_sections = pcraster.readmap(os.path.join(cost_dir, 'dike_raise_sections.map'))\n",
    "pollution_zones  = pcraster.readmap(os.path.join(cost_dir, 'pollution_zones.map'))\n",
    "smoothing_cost_classes = pcraster.readmap(os.path.join(cost_dir, 'smoothing_cost_classes.map'))\n",
    "dem = pcraster.readmap(os.path.join(ref_map_dir, 'dem.map'))\n",
    "\n",
    "groyne = riverscape.read_dike_maps(ref_map_dir, 'groyne')\n",
    "minemb = riverscape.read_dike_maps(ref_map_dir, 'minemb')\n",
    "main_dike = riverscape.read_dike_maps(ref_map_dir, 'main_dike')"
   ]
  },
  {
   "cell_type": "markdown",
   "metadata": {},
   "source": [
    "You can visualize these datasets and browse the costs per cell. Maps can\n",
    "be plotted with by passing the variables to the map plotting function of\n",
    "the riverscape module, e.g.\n",
    "\n",
    "``` python\n",
    "riverscape.plot(pollution_zones)\n",
    "```"
   ]
  },
  {
   "cell_type": "code",
   "execution_count": null,
   "metadata": {},
   "outputs": [],
   "source": []
  },
  {
   "cell_type": "markdown",
   "metadata": {},
   "source": [
    "Some spatial datasets are also provided in pairs holding two maps, the\n",
    "mean values and the standard deviation values of particular cost items.\n",
    "You can read them as input distributions and assign them to objects by:"
   ]
  },
  {
   "cell_type": "code",
   "execution_count": null,
   "metadata": {},
   "outputs": [],
   "source": [
    "# Read input distributions\n",
    "road_distr = riverscape.read_distribution(cost_dir, 'roads')\n",
    "smoothing_distr = riverscape.read_distribution(cost_dir, 'smoothing')\n",
    "building_distr = riverscape.read_distribution(cost_dir, 'building_tot')\n",
    "dike_raise50_distr = riverscape.read_distribution(cost_dir, 'dike_raise50')\n",
    "dike_raise100_distr = riverscape.read_distribution(cost_dir, 'dike_raise100')\n",
    "dike_reloc_distr = riverscape.read_distribution(cost_dir, 'dike_reloc')\n",
    "land_acq_distr = riverscape.read_distribution(cost_dir, 'land_acq')\n",
    "minemb_ext_use_distr = riverscape.read_distribution(cost_dir, 'minemb_ext_use')\n",
    "minemb_int_use_distr = riverscape.read_distribution(cost_dir, 'minemb_int_use')\n",
    "minemb_polluted_distr = riverscape.read_distribution(cost_dir, 'minemb_polluted')"
   ]
  },
  {
   "cell_type": "markdown",
   "metadata": {},
   "source": [
    "<!--\n",
    "Datasets read as input distributions hold two maps, the mean values and the standard deviation values.-->\n",
    "\n",
    "You can plot these, e.g. for the roads, with the plot method of the\n",
    "individual objects. Most likely your main interest is only on the mean\n",
    "values, in that case just use plot directly. In case you are interested\n",
    "in the values showing the standard deviation of a cost item, indicate\n",
    "that by passing an additional argument:\n",
    "\n",
    "``` python\n",
    "# Show the mean values only\n",
    "road_distr.plot()\n",
    "\n",
    "# Use this to additionally plot the standard deviation as well\n",
    "road_distr.plot(std_dev=True)\n",
    "```"
   ]
  },
  {
   "cell_type": "code",
   "execution_count": null,
   "metadata": {},
   "outputs": [],
   "source": []
  },
  {
   "cell_type": "markdown",
   "metadata": {},
   "source": [
    "Categorical description of cost items\n",
    "-------------------------------------\n",
    "\n",
    "Another specification of costs is given by categories, such as the costs\n",
    "for earth work or removal of roads and bridges. In case you are\n",
    "interested in the implementation price per unit you can load and display\n",
    "the full table:"
   ]
  },
  {
   "cell_type": "code",
   "execution_count": null,
   "metadata": {},
   "outputs": [],
   "source": [
    "# Reading the input file\n",
    "costs = pandas.read_csv(os.path.join(cost_dir, 'implementation_costs.csv'))\n",
    "\n",
    "# Formatting output\n",
    "costs = costs.replace(numpy.nan, '', regex=True)\n",
    "dfStyler = costs.style.set_properties(**{'text-align': 'left'})\n",
    "dfStyler.hide_index()\n",
    "dfStyler.set_table_styles([dict(selector='th', props=[('text-align', 'left')])])"
   ]
  },
  {
   "cell_type": "markdown",
   "metadata": {},
   "source": [
    "You also need to read costs for earthwork:"
   ]
  },
  {
   "cell_type": "code",
   "execution_count": null,
   "metadata": {},
   "outputs": [],
   "source": [
    "cost_input_ew = pandas.read_csv(os.path.join(cost_dir, 'cost_ew.csv'), index_col=0)\n",
    "cost_correction = pandas.read_csv(os.path.join(cost_dir, 'cost_correction.csv'), index_col=0, comment='#')"
   ]
  },
  {
   "cell_type": "markdown",
   "metadata": {},
   "source": [
    "Specifying the costs per cost item\n",
    "----------------------------------\n",
    "\n",
    "Each cost calculation is implemented in a separate Python class, you\n",
    "first need to import them from the RiverScape module:"
   ]
  },
  {
   "cell_type": "code",
   "execution_count": null,
   "metadata": {},
   "outputs": [],
   "source": [
    "from riverscape import CostSmoothing, CostEarthwork, CostPreparation, CostDikeRelocation, CostDikeRaising"
   ]
  },
  {
   "cell_type": "markdown",
   "metadata": {},
   "source": [
    "The maps holding the spatially distributed cost values are passed per\n",
    "type to the corresponding classes and furtheron used to calculate the\n",
    "total costs.\n",
    "\n",
    "### Smoothing costs\n",
    "\n",
    "These costs comprise the removal of existing vegetation to lower the\n",
    "floodplain roughness."
   ]
  },
  {
   "cell_type": "code",
   "execution_count": null,
   "metadata": {},
   "outputs": [],
   "source": [
    "c_sm = CostSmoothing(smoothing_distr)"
   ]
  },
  {
   "cell_type": "markdown",
   "metadata": {},
   "source": [
    "### Earthwork costs\n",
    "\n",
    "The costs for earthwork consist for example of excavation costs for\n",
    "floodplain lowering and side channel recreation, the removal of polluted\n",
    "soil and type of pollution, and costs for the lowering of the groynes."
   ]
  },
  {
   "cell_type": "code",
   "execution_count": null,
   "metadata": {},
   "outputs": [],
   "source": [
    "c_ew = CostEarthwork(minemb_ext_use_distr, minemb_int_use_distr, minemb_polluted_distr,\n",
    "    dem, minemb, groyne, pollution_zones, cost_input_ew)"
   ]
  },
  {
   "cell_type": "markdown",
   "metadata": {},
   "source": [
    "### Land preparation\n",
    "\n",
    "Several costs may accrue ahead of an implementation of a measure.\n",
    "Examples are costs for the acquisition of land and houses, the\n",
    "modification of traffic infrastructure, the removal of forrested areas,\n",
    "or the demolition of buildings."
   ]
  },
  {
   "cell_type": "code",
   "execution_count": null,
   "metadata": {},
   "outputs": [],
   "source": [
    "c_lp = CostPreparation(land_acq_distr, road_distr, smoothing_distr, building_distr, smoothing_cost_classes)"
   ]
  },
  {
   "cell_type": "markdown",
   "metadata": {},
   "source": [
    "### Dike relocation\n",
    "\n",
    "These costs occur in case embankments need to be relocated and comprise\n",
    "on the area affected and length of the dike to be relocated."
   ]
  },
  {
   "cell_type": "code",
   "execution_count": null,
   "metadata": {},
   "outputs": [],
   "source": [
    "c_dreloc = CostDikeRelocation(dike_reloc_distr, dike_length)"
   ]
  },
  {
   "cell_type": "markdown",
   "metadata": {},
   "source": [
    "### Dike raising\n",
    "\n",
    "These type indicate the costs when raising the embankment 50 or 100\n",
    "centimetres."
   ]
  },
  {
   "cell_type": "code",
   "execution_count": null,
   "metadata": {},
   "outputs": [],
   "source": [
    "c_draise = CostDikeRaising(dike_raise50_distr, dike_raise100_distr, dike_length)"
   ]
  },
  {
   "cell_type": "markdown",
   "metadata": {},
   "source": [
    "Calculation of total costs\n",
    "--------------------------\n",
    "\n",
    "With the required input data prepared it is now possible to calculate\n",
    "the costs for the measures. For each cost per cost type, the cost maps\n",
    "are overlayed with the area of a measure and aggregated:"
   ]
  },
  {
   "cell_type": "code",
   "execution_count": null,
   "metadata": {},
   "outputs": [],
   "source": [
    "cost_types = [c_sm, c_ew, c_lp, c_dreloc, c_draise]\n",
    "cost_all_msrs, std_all_msrs = riverscape.assess_effects(cost_types, measure_dir, cost_correction)"
   ]
  },
  {
   "cell_type": "markdown",
   "metadata": {},
   "source": [
    "After calculation, you can display the calculated costs in tabular form:"
   ]
  },
  {
   "cell_type": "code",
   "execution_count": null,
   "metadata": {},
   "outputs": [],
   "source": [
    "display(cost_all_msrs)"
   ]
  },
  {
   "cell_type": "markdown",
   "metadata": {},
   "source": [
    "In addition, you can visualise the results for the selected measures:"
   ]
  },
  {
   "cell_type": "code",
   "execution_count": null,
   "metadata": {},
   "outputs": [],
   "source": [
    "riverscape.plot_costs(cost_all_msrs)"
   ]
  },
  {
   "cell_type": "markdown",
   "metadata": {},
   "source": [
    "Saving the output table\n",
    "-----------------------\n",
    "\n",
    "In case you want to keep the results you can store them to disk. The\n",
    "default location is the measure directory, change it if necessary."
   ]
  },
  {
   "cell_type": "code",
   "execution_count": null,
   "metadata": {},
   "outputs": [],
   "source": [
    "filename = 'cost_all.csv'\n",
    "path = os.path.join(measure_dir, filename)\n",
    "\n",
    "cost_all_msrs.to_csv(path)"
   ]
  }
 ],
 "nbformat": 4,
 "nbformat_minor": 5,
 "metadata": {}
}
