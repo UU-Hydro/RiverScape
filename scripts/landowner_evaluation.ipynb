{
 "cells": [
  {
   "cell_type": "markdown",
   "metadata": {},
   "source": [
    "Landowner evaluation\n",
    "====================\n",
    "\n",
    "This notebook assesses the number and types of land owners involved in\n",
    "the measure extent. First import the RiverScape and additional required\n",
    "Python modules to run this notebook."
   ]
  },
  {
   "cell_type": "code",
   "execution_count": null,
   "metadata": {},
   "outputs": [],
   "source": [
    "import pandas\n",
    "import numpy\n",
    "from riverscape import *\n",
    "\n",
    "# Visualisation\n",
    "import geoviews\n",
    "geoviews.extension('bokeh')"
   ]
  },
  {
   "cell_type": "markdown",
   "metadata": {},
   "source": [
    "Evaluation is performed on a set of measures that you defined in the\n",
    "intervention planning notebook. Previously, you stored a set of measures\n",
    "to disk. Now choose the directory holding the measures that you want to\n",
    "evaluate, select the `maps` folder:"
   ]
  },
  {
   "cell_type": "code",
   "execution_count": null,
   "metadata": {},
   "outputs": [],
   "source": [
    "msr_map_dir  = select_directory()"
   ]
  }
 ],
 "nbformat": 4,
 "nbformat_minor": 5,
 "metadata": {}
}

