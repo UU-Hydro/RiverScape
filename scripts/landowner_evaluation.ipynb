<h1 id="landowner-evaluation">Landowner evaluation</h1>
<p>This notebook assesses the number and types of land owners involved in the measure extent. First import the RiverScape and additional required Python modules to run this notebook.</p>
<pre class="code"><code>import pandas
import numpy
from riverscape import *

# Visualisation
import geoviews
geoviews.extension(&#39;bokeh&#39;)</code></pre>
<p>Evaluation is performed on a set of measures that you defined in the intervention planning notebook. Previously, you stored a set of measures to disk. Now choose the directory holding the measures that you want to evaluate, select the <code>maps</code> folder:</p>
<pre class="code"><code>msr_map_dir  = select_directory()</code></pre>
