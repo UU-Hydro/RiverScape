{
 "cells": [
  {
   "cell_type": "markdown",
   "metadata": {},
   "source": [
    "Evaluation of affected landowners\n",
    "=================================\n",
    "\n",
    "Overview\n",
    "--------\n",
    "\n",
    "Decisions for adaptation measures require an overview of stakeholders\n",
    "involved, an information relevant e.g. for compensation or expropriation\n",
    "of landowners. The number of landowners can therefore be seen as proxy\n",
    "for governance complexity. This notebook assesses the number and types\n",
    "of land owners involved in a measure extent.\n",
    "\n",
    "How to start\n",
    "------------\n",
    "\n",
    "### Setting up the environment\n",
    "\n",
    "First import the RiverScape and additional required Python modules to\n",
    "run this notebook."
   ]
  },
  {
   "cell_type": "code",
   "execution_count": null,
   "metadata": {},
   "outputs": [],
   "source": [
    "#import pandas\n",
    "#import numpy\n",
    "\n",
    "# Visualisation\n",
    "import geoviews\n",
    "geoviews.extension('bokeh')\n",
    "\n",
    "\n",
    "import riverscape\n",
    "\n",
    "%reload_ext autoreload\n",
    "%autoreload 2"
   ]
  },
  {
   "cell_type": "markdown",
   "metadata": {},
   "source": [
    "### Specify the input data location\n",
    "\n",
    "The evaluation of affected landowners is performed on a set of measures.\n",
    "You can use the default example data measures to continue this notebook:"
   ]
  },
  {
   "cell_type": "code",
   "execution_count": null,
   "metadata": {},
   "outputs": [],
   "source": [
    "measure_dir = riverscape.example_data_path()"
   ]
  },
  {
   "cell_type": "markdown",
   "metadata": {},
   "source": [
    "<!-- that you defined in the intervention planning notebook. -->\n",
    "\n",
    "In case you previously stored a set of measures to disk you can use\n",
    "those. Uncomment and execute the following line and choose the directory\n",
    "holding your measures. Select a subdirectory of the `maps` folder, such\n",
    "as `lowering_everywhere`:\n",
    "\n",
    "<!-- choose a directory holding the measures that you want to evaluate. -->"
   ]
  },
  {
   "cell_type": "code",
   "execution_count": null,
   "metadata": {},
   "outputs": [],
   "source": [
    "# measure_dir = riverscape.select_directory()"
   ]
  },
  {
   "cell_type": "markdown",
   "metadata": {},
   "source": [
    "Landowners affected by measures\n",
    "-------------------------------\n",
    "\n",
    "Intended measures in particular areas may affect various stakeholders,\n",
    "such as citizens, companies or governmental institutions. You can\n",
    "visualise and inspect the areas affected by measures and the\n",
    "corresponding variety of ownerships:\n",
    "\n",
    "<!--\n",
    "Example is shown in the figure,\n",
    "on the left potential areas of a measure are shown,\n",
    "on the right an impression of the variety of ownerships.-->"
   ]
  },
  {
   "cell_type": "code",
   "execution_count": null,
   "metadata": {},
   "outputs": [],
   "source": [
    "riverscape.plot_landowners(measure_dir)"
   ]
  },
  {
   "cell_type": "markdown",
   "metadata": {},
   "source": [
    "The ownership is furthermore spread over individual owners within the\n",
    "area. these owners need to participate in the decision process or\n",
    "considerer for imminent expropriation. It is therefore relevant to know\n",
    "the number of affected stakeholders to estimate the governance\n",
    "complexity of a particular measure.\n",
    "\n",
    "The following operation returns that number, calculated by an overlay of\n",
    "the areas affected by a measure and the landowner map. Note that the\n",
    "numbers fairly give an indication about the amount of involved\n",
    "stakeholders."
   ]
  },
  {
   "cell_type": "code",
   "execution_count": null,
   "metadata": {},
   "outputs": [],
   "source": [
    "affected = riverscape.involved_stakeholders(measure_dir)"
   ]
  },
  {
   "cell_type": "markdown",
   "metadata": {},
   "source": [
    "After formatting you will see the resulting table:"
   ]
  },
  {
   "cell_type": "code",
   "execution_count": null,
   "metadata": {},
   "outputs": [],
   "source": [
    "dfStyler = affected.style.set_properties(**{'text-align': 'left'})\n",
    "dfStyler.hide_index()\n",
    "dfStyler.set_table_styles([dict(selector='th', props=[('text-align', 'left')])])"
   ]
  },
  {
   "cell_type": "markdown",
   "metadata": {},
   "source": [
    "Execute the next cell in case you want to store the result. You can\n",
    "adapt the filename and location, default is the selected directory of\n",
    "measures."
   ]
  },
  {
   "cell_type": "code",
   "execution_count": null,
   "metadata": {},
   "outputs": [],
   "source": [
    "path = measure_dir\n",
    "filename = 'involved_owners.csv'\n",
    "affected.to_csv(os.path.join(path, filename), index=False)"
   ]
  }
 ],
 "nbformat": 4,
 "nbformat_minor": 5,
 "metadata": {}
}
